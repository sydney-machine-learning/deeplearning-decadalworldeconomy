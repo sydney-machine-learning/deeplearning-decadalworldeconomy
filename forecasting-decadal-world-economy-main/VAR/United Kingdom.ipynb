{
 "cells": [
  {
   "cell_type": "code",
   "execution_count": 1,
   "id": "d35f57c4",
   "metadata": {},
   "outputs": [],
   "source": [
    "import statsmodels.api as sm\n",
    "import statsmodels.stats.diagnostic\n",
    "\n",
    "import matplotlib.pyplot as plt\n",
    "\n",
    "import numpy as np\n",
    "import pandas as pd\n",
    "\n",
    "from statsmodels.tsa.api import VAR\n",
    "\n",
    "def rmse(pred, actual):\n",
    "    return np.sqrt(((pred - actual) ** 2).mean())\n",
    "\n",
    "\n",
    "import pandas as pd\n",
    "import numpy as np\n",
    "import matplotlib.pyplot as plt\n",
    "%matplotlib inline\n",
    "\n",
    "# Import Statsmodels\n",
    "from statsmodels.tsa.api import VAR\n",
    "from statsmodels.tsa.stattools import adfuller\n",
    "from statsmodels.tools.eval_measures import rmse, aic\n",
    "\n"
   ]
  },
  {
   "cell_type": "code",
   "execution_count": 2,
   "id": "0358415b",
   "metadata": {},
   "outputs": [],
   "source": [
    "# LOAD DATA\n",
    "\n",
    "data_path = \"../Year data P//\"\n",
    "\n",
    "\n",
    "df = pd.read_csv(data_path + 'United Kingdom//United Kingdom Data.csv')\n",
    "df = df.loc[df['year'] >= 1980]\n",
    "df = df.drop(['countrycode','country','currency_unit','year'],axis = 1)\n",
    "year = pd.period_range('1980', '2019', freq='Y')\n",
    "df.index = year"
   ]
  },
  {
   "cell_type": "code",
   "execution_count": 3,
   "id": "39400c11",
   "metadata": {},
   "outputs": [],
   "source": [
    "from sklearn.preprocessing import MinMaxScaler\n",
    "Xscaler =MinMaxScaler()\n",
    "df.iloc[:,0:-1]=Xscaler.fit_transform(df.values[:,0:-1])"
   ]
  },
  {
   "cell_type": "code",
   "execution_count": 4,
   "id": "05f985c5",
   "metadata": {},
   "outputs": [],
   "source": [
    "df_train = df['1980':'2009']\n",
    "df_test = df['2010':'2019']"
   ]
  },
  {
   "cell_type": "code",
   "execution_count": 5,
   "id": "159ec5f1",
   "metadata": {},
   "outputs": [
    {
     "name": "stdout",
     "output_type": "stream",
     "text": [
      "0\n",
      "GDP\n",
      "UNstable\n",
      "1\n",
      "net population growth\n",
      "UNstable\n",
      "2\n",
      "CPI\n",
      "UNstable\n",
      "3\n",
      "employment rate\n",
      "stable\n",
      "4\n",
      "labsh\n",
      "stable\n",
      "5\n",
      "xr\n",
      "stable\n",
      "6\n",
      "pl_gdpo\n",
      "stable\n",
      "7\n",
      "csh_c\n",
      "stable\n",
      "8\n",
      "csh_i\n",
      "stable\n",
      "9\n",
      "csh_g\n",
      "UNstable\n",
      "10\n",
      "csh_x\n",
      "stable\n",
      "11\n",
      "csh_m\n",
      "stable\n",
      "12\n",
      "csh_r\n",
      "stable\n",
      "13\n",
      "pl_c\n",
      "stable\n",
      "14\n",
      "pl_i\n",
      "stable\n",
      "15\n",
      "pl_g\n",
      "stable\n",
      "16\n",
      "pl_x\n",
      "stable\n",
      "17\n",
      "pl_m\n",
      "stable\n",
      "18\n",
      "pl_n\n",
      "stable\n",
      "19\n",
      "pl_k\n",
      "stable\n"
     ]
    }
   ],
   "source": [
    "for i in range(0,20):\n",
    "    adfResult = sm.tsa.stattools.adfuller(df_train.iloc[:,i])\n",
    "    if adfResult[1]<0.05:\n",
    "        print(i)\n",
    "        print(df.columns[i])\n",
    "        print(\"stable\")\n",
    "    else:\n",
    "        print(i)\n",
    "        print(df.columns[i])\n",
    "        print(\"UNstable\")"
   ]
  },
  {
   "cell_type": "code",
   "execution_count": 6,
   "id": "63853776",
   "metadata": {},
   "outputs": [],
   "source": [
    "df.iloc[:,0] = df.iloc[:,0].diff(1)\n",
    "df.iloc[:,2] = df.iloc[:,2].diff(1)\n",
    "df.iloc[:,1] = df.iloc[:,1].diff(1)\n",
    "df.iloc[:,9] = df.iloc[:,9].diff(1)\n",
    "\n",
    "\n",
    "df_train = df['1980':'2009']\n",
    "df_test = df['2010':'2019']"
   ]
  },
  {
   "cell_type": "code",
   "execution_count": 7,
   "id": "a7b7f68f",
   "metadata": {},
   "outputs": [
    {
     "name": "stdout",
     "output_type": "stream",
     "text": [
      "0\n",
      "GDP\n",
      "stable\n",
      "1\n",
      "net population growth\n",
      "UNstable\n",
      "2\n",
      "CPI\n",
      "stable\n",
      "3\n",
      "employment rate\n",
      "stable\n",
      "4\n",
      "labsh\n",
      "stable\n",
      "5\n",
      "xr\n",
      "stable\n",
      "6\n",
      "pl_gdpo\n",
      "stable\n",
      "7\n",
      "csh_c\n",
      "stable\n",
      "8\n",
      "csh_i\n",
      "stable\n",
      "9\n",
      "csh_g\n",
      "stable\n",
      "10\n",
      "csh_x\n",
      "stable\n",
      "11\n",
      "csh_m\n",
      "stable\n",
      "12\n",
      "csh_r\n",
      "stable\n",
      "13\n",
      "pl_c\n",
      "stable\n",
      "14\n",
      "pl_i\n",
      "stable\n",
      "15\n",
      "pl_g\n",
      "UNstable\n",
      "16\n",
      "pl_x\n",
      "stable\n",
      "17\n",
      "pl_m\n",
      "stable\n",
      "18\n",
      "pl_n\n",
      "UNstable\n",
      "19\n",
      "pl_k\n",
      "stable\n"
     ]
    }
   ],
   "source": [
    "for i in range(0,20):\n",
    "    adfResult = sm.tsa.stattools.adfuller(df_train.iloc[1:,i])\n",
    "    if adfResult[1]<0.05:\n",
    "        print(i)\n",
    "        print(df.columns[i])\n",
    "        print(\"stable\")\n",
    "    else:\n",
    "        print(i)\n",
    "        print(df.columns[i])\n",
    "        print(\"UNstable\")"
   ]
  },
  {
   "cell_type": "code",
   "execution_count": 8,
   "id": "abc09b9c",
   "metadata": {},
   "outputs": [
    {
     "name": "stdout",
     "output_type": "stream",
     "text": [
      "0\n",
      "GDP\n",
      "not coint\n",
      "1\n",
      "net population growth\n",
      "not coint\n",
      "2\n",
      "CPI\n",
      "not coint\n",
      "3\n",
      "employment rate\n",
      "not coint\n",
      "4\n",
      "labsh\n",
      "not coint\n",
      "5\n",
      "xr\n",
      "not coint\n",
      "6\n",
      "pl_gdpo\n",
      "not coint\n",
      "7\n",
      "csh_c\n",
      "not coint\n",
      "8\n",
      "csh_i\n",
      "not coint\n",
      "9\n",
      "csh_g\n",
      "not coint\n",
      "10\n",
      "csh_x\n",
      "not coint\n",
      "11\n",
      "csh_m\n",
      "not coint\n",
      "12\n",
      "csh_r\n",
      "not coint\n",
      "13\n",
      "pl_c\n",
      "not coint\n",
      "14\n",
      "pl_i\n",
      "not coint\n",
      "15\n",
      "pl_g\n",
      "not coint\n",
      "16\n",
      "pl_x\n",
      "not coint\n",
      "17\n",
      "pl_m\n",
      "not coint\n",
      "18\n",
      "pl_n\n",
      "not coint\n",
      "19\n",
      "pl_k\n",
      "coint\n"
     ]
    }
   ],
   "source": [
    "for i in range(0,20):\n",
    "    result = sm.tsa.stattools.coint(df_train.iloc[1:,-1],df_train.iloc[1:,i])\n",
    "    if result[1]<0.05:\n",
    "        print(i)\n",
    "        print(df.columns[i])\n",
    "        print(\"coint\")\n",
    "    else:\n",
    "        print(i)\n",
    "        print(df.columns[i])\n",
    "        print(\"not coint\")"
   ]
  },
  {
   "cell_type": "code",
   "execution_count": 9,
   "id": "47903718",
   "metadata": {},
   "outputs": [],
   "source": [
    "df_train = df.iloc[1:,[0,2,5,6,7,8,10,11,12,13,14,17,19]]['1981':'2009']\n",
    "df_test = df.iloc[1:,[0,2,5,6,7,8,10,11,12,13,14,17,19]]['2010':'2019']"
   ]
  },
  {
   "cell_type": "code",
   "execution_count": 10,
   "id": "a353881c",
   "metadata": {},
   "outputs": [
    {
     "name": "stdout",
     "output_type": "stream",
     "text": [
      "BEST ORDER: 1 BEST AIC: -68.67496730576919\n"
     ]
    }
   ],
   "source": [
    "### FIND BEST VAR ORDER with AIC ###\n",
    "AIC = {}\n",
    "best_aic, best_order = np.inf, 0\n",
    "lagsToTest = 2\n",
    "for i in range(1, lagsToTest):\n",
    "    model = VAR(df_train.values)\n",
    "    model_result = model.fit(maxlags = i)\n",
    "    AIC[i] = model_result.aic\n",
    "\n",
    "    if AIC[i] < best_aic:\n",
    "        best_aic = AIC[i]\n",
    "        best_order = i\n",
    "\n",
    "print('BEST ORDER:', best_order, 'BEST AIC:', best_aic)"
   ]
  },
  {
   "cell_type": "code",
   "execution_count": 11,
   "id": "dbbcfd46",
   "metadata": {},
   "outputs": [
    {
     "name": "stdout",
     "output_type": "stream",
     "text": [
      "var_result.aic:  -68.67496730576919\n"
     ]
    }
   ],
   "source": [
    "### FIT FINAL VAR WITH LAG CORRESPONTING TO THE BEST AIC ###\n",
    "var = VAR(df_train)\n",
    "var_result = var.fit(maxlags=best_order)\n",
    "print(\"var_result.aic: \", var_result.aic)"
   ]
  },
  {
   "cell_type": "code",
   "execution_count": 12,
   "id": "b10a93f7",
   "metadata": {},
   "outputs": [
    {
     "name": "stdout",
     "output_type": "stream",
     "text": [
      "1\n"
     ]
    }
   ],
   "source": [
    "print(len(df_test.values[-best_order:]))\n",
    "\n",
    "forecast_input = df_test.values[-best_order:]\n",
    "\n",
    "# Forecast\n",
    "fc = var_result.forecast(y = forecast_input, steps=5)\n",
    "df_forecast = pd.DataFrame(fc, index=pd.period_range(start = '2020',end = '2024',freq = 'Y'), columns=df_test.columns)\n",
    "#print(df_forecast)"
   ]
  },
  {
   "cell_type": "code",
   "execution_count": 13,
   "id": "a58566c5",
   "metadata": {},
   "outputs": [
    {
     "data": {
      "text/plain": [
       "<AxesSubplot:>"
      ]
     },
     "execution_count": 13,
     "metadata": {},
     "output_type": "execute_result"
    },
    {
     "data": {
      "image/png": "[encoded data removed]",
      "text/plain": [
       "<Figure size 432x288 with 1 Axes>"
      ]
     },
     "metadata": {
      "needs_background": "light"
     },
     "output_type": "display_data"
    }
   ],
   "source": [
    "plt.figure()\n",
    "df.iloc[1:,0].plot()\n",
    "df_forecast.iloc[:,0].plot()"
   ]
  },
  {
   "cell_type": "code",
   "execution_count": 14,
   "id": "b7f056b0",
   "metadata": {},
   "outputs": [
    {
     "data": {
      "text/plain": [
       "0.261427813362489"
      ]
     },
     "execution_count": 14,
     "metadata": {},
     "output_type": "execute_result"
    }
   ],
   "source": [
    "predict_Test = var_result.forecast(y = df_train.values, steps=10)\n",
    "rmse(predict_Test[:,0],df_test.iloc[:,0].values)"
   ]
  },
  {
   "cell_type": "code",
   "execution_count": 15,
   "id": "6603410f",
   "metadata": {},
   "outputs": [
    {
     "name": "stdout",
     "output_type": "stream",
     "text": [
      "0.1290847816885289\n"
     ]
    },
    {
     "data": {
      "text/plain": [
       "<AxesSubplot:>"
      ]
     },
     "execution_count": 15,
     "metadata": {},
     "output_type": "execute_result"
    },
    {
     "data": {
      "image/png": "[encoded data removed]",
      "text/plain": [
       "<Figure size 432x288 with 1 Axes>"
      ]
     },
     "metadata": {
      "needs_background": "light"
     },
     "output_type": "display_data"
    }
   ],
   "source": [
    "fitted_value = np.zeros((28,df_train.shape[1]))\n",
    "for i in range(0,28,4):\n",
    "    a = var_result.forecast(y = df_train.iloc[i:i+4,:].values, steps=4)\n",
    "    fitted_value[i:i+4,:] = a\n",
    "\n",
    "fitted_value = pd.DataFrame(fitted_value, index=pd.period_range(start = '1985',end = '2012',freq = 'Y'), columns=df_train.columns)\n",
    "#print(df_forecast)\n",
    "\n",
    "print(rmse(fitted_value.iloc[:-3,0],df_train.iloc[4:,0].values))\n",
    "plt.figure()\n",
    "df_train.iloc[:,0].plot()\n",
    "fitted_value.iloc[:,0].plot()"
   ]
  },
  {
   "cell_type": "code",
   "execution_count": null,
   "id": "b3434493",
   "metadata": {},
   "outputs": [],
   "source": []
  },
  {
   "cell_type": "code",
   "execution_count": null,
   "id": "f879ec58",
   "metadata": {},
   "outputs": [],
   "source": []
  },
  {
   "cell_type": "code",
   "execution_count": null,
   "id": "27409699",
   "metadata": {},
   "outputs": [],
   "source": []
  }
 ],
 "metadata": {
  "kernelspec": {
   "display_name": "Python 3 (ipykernel)",
   "language": "python",
   "name": "python3"
  },
  "language_info": {
   "codemirror_mode": {
    "name": "ipython",
    "version": 3
   },
   "file_extension": ".py",
   "mimetype": "text/x-python",
   "name": "python",
   "nbconvert_exporter": "python",
   "pygments_lexer": "ipython3",
   "version": "3.9.12"
  }
 },
 "nbformat": 4,
 "nbformat_minor": 5
}
