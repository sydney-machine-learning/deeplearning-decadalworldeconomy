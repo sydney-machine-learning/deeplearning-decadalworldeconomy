{
 "cells": [
  {
   "cell_type": "code",
   "execution_count": 1,
   "id": "7a47583b",
   "metadata": {},
   "outputs": [],
   "source": [
    "import statsmodels.api as sm\n",
    "import statsmodels.stats.diagnostic\n",
    "\n",
    "import matplotlib.pyplot as plt\n",
    "\n",
    "import numpy as np\n",
    "import pandas as pd\n",
    "\n",
    "from statsmodels.tsa.api import VAR\n",
    "\n",
    "def rmse(pred, actual):\n",
    "    return np.sqrt(((pred - actual) ** 2).mean())\n",
    "\n",
    "\n",
    "import pandas as pd\n",
    "import numpy as np\n",
    "import matplotlib.pyplot as plt\n",
    "%matplotlib inline\n",
    "\n",
    "# Import Statsmodels\n",
    "from statsmodels.tsa.api import VAR\n",
    "from statsmodels.tsa.stattools import adfuller\n",
    "from statsmodels.tools.eval_measures import rmse, aic\n",
    "\n"
   ]
  },
  {
   "cell_type": "code",
   "execution_count": 2,
   "id": "d394976b",
   "metadata": {},
   "outputs": [],
   "source": [
    "# LOAD DATA\n",
    "\n",
    "data_path = \"../Year data P//\"\n",
    "\n",
    "df = pd.read_csv(data_path + 'India//India Data.csv')\n",
    "df = df.loc[df['year'] >= 1980]\n",
    "df = df.drop(['countrycode','country','currency_unit','year'],axis = 1)\n",
    "year = pd.period_range('1980', '2019', freq='Y')\n",
    "df.index = year\n"
   ]
  },
  {
   "cell_type": "code",
   "execution_count": 3,
   "id": "13a3509a",
   "metadata": {},
   "outputs": [],
   "source": [
    "from sklearn.preprocessing import MinMaxScaler\n",
    "Xscaler =MinMaxScaler()\n",
    "df.iloc[:,0:-1]=Xscaler.fit_transform(df.values[:,0:-1])"
   ]
  },
  {
   "cell_type": "code",
   "execution_count": 4,
   "id": "d7407e3f",
   "metadata": {},
   "outputs": [],
   "source": [
    "df_train = df['1980':'2009']\n",
    "df_test = df['2010':'2019']"
   ]
  },
  {
   "cell_type": "code",
   "execution_count": 5,
   "id": "cbdc5356",
   "metadata": {},
   "outputs": [
    {
     "name": "stdout",
     "output_type": "stream",
     "text": [
      "0\n",
      "GDP\n",
      "stable\n",
      "1\n",
      "net population growth\n",
      "UNstable\n",
      "2\n",
      "CPI\n",
      "stable\n",
      "3\n",
      "employment rate\n",
      "stable\n",
      "4\n",
      "labsh\n",
      "stable\n",
      "5\n",
      "xr\n",
      "UNstable\n",
      "6\n",
      "pl_gdpo\n",
      "stable\n",
      "7\n",
      "csh_c\n",
      "UNstable\n",
      "8\n",
      "csh_i\n",
      "stable\n",
      "9\n",
      "csh_g\n",
      "stable\n",
      "10\n",
      "csh_x\n",
      "UNstable\n",
      "11\n",
      "csh_m\n",
      "stable\n",
      "12\n",
      "csh_r\n",
      "stable\n",
      "13\n",
      "pl_c\n",
      "stable\n",
      "14\n",
      "pl_i\n",
      "stable\n",
      "15\n",
      "pl_g\n",
      "stable\n",
      "16\n",
      "pl_x\n",
      "UNstable\n",
      "17\n",
      "pl_m\n",
      "UNstable\n",
      "18\n",
      "pl_n\n",
      "stable\n",
      "19\n",
      "pl_k\n",
      "stable\n"
     ]
    }
   ],
   "source": [
    "for i in range(0,20):\n",
    "    adfResult = sm.tsa.stattools.adfuller(df_train.iloc[:,i])\n",
    "    if adfResult[1]<0.05:\n",
    "        print(i)\n",
    "        print(df.columns[i])\n",
    "        print(\"stable\")\n",
    "    else:\n",
    "        print(i)\n",
    "        print(df.columns[i])\n",
    "        print(\"UNstable\")"
   ]
  },
  {
   "cell_type": "code",
   "execution_count": 6,
   "id": "20531a0d",
   "metadata": {},
   "outputs": [
    {
     "name": "stderr",
     "output_type": "stream",
     "text": [
      "/var/folders/p7/7s325dfn3n380nkwd9xskh7r0000gn/T/ipykernel_44219/3949589448.py:1: SettingWithCopyWarning: \n",
      "A value is trying to be set on a copy of a slice from a DataFrame.\n",
      "Try using .loc[row_indexer,col_indexer] = value instead\n",
      "\n",
      "See the caveats in the documentation: https://pandas.pydata.org/pandas-docs/stable/user_guide/indexing.html#returning-a-view-versus-a-copy\n",
      "  df_train.iloc[:,1] = df_train.iloc[:,1].diff(1)\n",
      "/var/folders/p7/7s325dfn3n380nkwd9xskh7r0000gn/T/ipykernel_44219/3949589448.py:2: SettingWithCopyWarning: \n",
      "A value is trying to be set on a copy of a slice from a DataFrame.\n",
      "Try using .loc[row_indexer,col_indexer] = value instead\n",
      "\n",
      "See the caveats in the documentation: https://pandas.pydata.org/pandas-docs/stable/user_guide/indexing.html#returning-a-view-versus-a-copy\n",
      "  df_train.iloc[:,5] = df_train.iloc[:,5].diff(1)\n",
      "/var/folders/p7/7s325dfn3n380nkwd9xskh7r0000gn/T/ipykernel_44219/3949589448.py:3: SettingWithCopyWarning: \n",
      "A value is trying to be set on a copy of a slice from a DataFrame.\n",
      "Try using .loc[row_indexer,col_indexer] = value instead\n",
      "\n",
      "See the caveats in the documentation: https://pandas.pydata.org/pandas-docs/stable/user_guide/indexing.html#returning-a-view-versus-a-copy\n",
      "  df_train.iloc[:,7] = df_train.iloc[:,7].diff(1)\n",
      "/var/folders/p7/7s325dfn3n380nkwd9xskh7r0000gn/T/ipykernel_44219/3949589448.py:4: SettingWithCopyWarning: \n",
      "A value is trying to be set on a copy of a slice from a DataFrame.\n",
      "Try using .loc[row_indexer,col_indexer] = value instead\n",
      "\n",
      "See the caveats in the documentation: https://pandas.pydata.org/pandas-docs/stable/user_guide/indexing.html#returning-a-view-versus-a-copy\n",
      "  df_train.iloc[:,10] = df_train.iloc[:,10].diff(1)\n",
      "/var/folders/p7/7s325dfn3n380nkwd9xskh7r0000gn/T/ipykernel_44219/3949589448.py:5: SettingWithCopyWarning: \n",
      "A value is trying to be set on a copy of a slice from a DataFrame.\n",
      "Try using .loc[row_indexer,col_indexer] = value instead\n",
      "\n",
      "See the caveats in the documentation: https://pandas.pydata.org/pandas-docs/stable/user_guide/indexing.html#returning-a-view-versus-a-copy\n",
      "  df_train.iloc[:,16] = df_train.iloc[:,16].diff(1)\n",
      "/var/folders/p7/7s325dfn3n380nkwd9xskh7r0000gn/T/ipykernel_44219/3949589448.py:6: SettingWithCopyWarning: \n",
      "A value is trying to be set on a copy of a slice from a DataFrame.\n",
      "Try using .loc[row_indexer,col_indexer] = value instead\n",
      "\n",
      "See the caveats in the documentation: https://pandas.pydata.org/pandas-docs/stable/user_guide/indexing.html#returning-a-view-versus-a-copy\n",
      "  df_train.iloc[:,17] = df_train.iloc[:,17].diff(1)\n",
      "/var/folders/p7/7s325dfn3n380nkwd9xskh7r0000gn/T/ipykernel_44219/3949589448.py:8: SettingWithCopyWarning: \n",
      "A value is trying to be set on a copy of a slice from a DataFrame.\n",
      "Try using .loc[row_indexer,col_indexer] = value instead\n",
      "\n",
      "See the caveats in the documentation: https://pandas.pydata.org/pandas-docs/stable/user_guide/indexing.html#returning-a-view-versus-a-copy\n",
      "  df_test.iloc[:,1] = df_test.iloc[:,1].diff(1)\n",
      "/var/folders/p7/7s325dfn3n380nkwd9xskh7r0000gn/T/ipykernel_44219/3949589448.py:9: SettingWithCopyWarning: \n",
      "A value is trying to be set on a copy of a slice from a DataFrame.\n",
      "Try using .loc[row_indexer,col_indexer] = value instead\n",
      "\n",
      "See the caveats in the documentation: https://pandas.pydata.org/pandas-docs/stable/user_guide/indexing.html#returning-a-view-versus-a-copy\n",
      "  df_test.iloc[:,5] = df_test.iloc[:,5].diff(1)\n",
      "/var/folders/p7/7s325dfn3n380nkwd9xskh7r0000gn/T/ipykernel_44219/3949589448.py:10: SettingWithCopyWarning: \n",
      "A value is trying to be set on a copy of a slice from a DataFrame.\n",
      "Try using .loc[row_indexer,col_indexer] = value instead\n",
      "\n",
      "See the caveats in the documentation: https://pandas.pydata.org/pandas-docs/stable/user_guide/indexing.html#returning-a-view-versus-a-copy\n",
      "  df_test.iloc[:,7] = df_test.iloc[:,7].diff(1)\n",
      "/var/folders/p7/7s325dfn3n380nkwd9xskh7r0000gn/T/ipykernel_44219/3949589448.py:11: SettingWithCopyWarning: \n",
      "A value is trying to be set on a copy of a slice from a DataFrame.\n",
      "Try using .loc[row_indexer,col_indexer] = value instead\n",
      "\n",
      "See the caveats in the documentation: https://pandas.pydata.org/pandas-docs/stable/user_guide/indexing.html#returning-a-view-versus-a-copy\n",
      "  df_test.iloc[:,10] = df_test.iloc[:,10].diff(1)\n",
      "/var/folders/p7/7s325dfn3n380nkwd9xskh7r0000gn/T/ipykernel_44219/3949589448.py:12: SettingWithCopyWarning: \n",
      "A value is trying to be set on a copy of a slice from a DataFrame.\n",
      "Try using .loc[row_indexer,col_indexer] = value instead\n",
      "\n",
      "See the caveats in the documentation: https://pandas.pydata.org/pandas-docs/stable/user_guide/indexing.html#returning-a-view-versus-a-copy\n",
      "  df_test.iloc[:,16] = df_test.iloc[:,16].diff(1)\n",
      "/var/folders/p7/7s325dfn3n380nkwd9xskh7r0000gn/T/ipykernel_44219/3949589448.py:13: SettingWithCopyWarning: \n",
      "A value is trying to be set on a copy of a slice from a DataFrame.\n",
      "Try using .loc[row_indexer,col_indexer] = value instead\n",
      "\n",
      "See the caveats in the documentation: https://pandas.pydata.org/pandas-docs/stable/user_guide/indexing.html#returning-a-view-versus-a-copy\n",
      "  df_test.iloc[:,17] = df_test.iloc[:,17].diff(1)\n"
     ]
    }
   ],
   "source": [
    "df_train.iloc[:,1] = df_train.iloc[:,1].diff(1)\n",
    "df_train.iloc[:,5] = df_train.iloc[:,5].diff(1)\n",
    "df_train.iloc[:,7] = df_train.iloc[:,7].diff(1)\n",
    "df_train.iloc[:,10] = df_train.iloc[:,10].diff(1)\n",
    "df_train.iloc[:,16] = df_train.iloc[:,16].diff(1)\n",
    "df_train.iloc[:,17] = df_train.iloc[:,17].diff(1)\n",
    "\n",
    "df_test.iloc[:,1] = df_test.iloc[:,1].diff(1)\n",
    "df_test.iloc[:,5] = df_test.iloc[:,5].diff(1)\n",
    "df_test.iloc[:,7] = df_test.iloc[:,7].diff(1)\n",
    "df_test.iloc[:,10] = df_test.iloc[:,10].diff(1)\n",
    "df_test.iloc[:,16] = df_test.iloc[:,16].diff(1)\n",
    "df_test.iloc[:,17] = df_test.iloc[:,17].diff(1)\n"
   ]
  },
  {
   "cell_type": "code",
   "execution_count": 7,
   "id": "db07bf9e",
   "metadata": {},
   "outputs": [
    {
     "name": "stdout",
     "output_type": "stream",
     "text": [
      "0\n",
      "GDP\n",
      "stable\n",
      "1\n",
      "net population growth\n",
      "UNstable\n",
      "2\n",
      "CPI\n",
      "stable\n",
      "3\n",
      "employment rate\n",
      "stable\n",
      "4\n",
      "labsh\n",
      "stable\n",
      "5\n",
      "xr\n",
      "stable\n",
      "6\n",
      "pl_gdpo\n",
      "stable\n",
      "7\n",
      "csh_c\n",
      "stable\n",
      "8\n",
      "csh_i\n",
      "stable\n",
      "9\n",
      "csh_g\n",
      "UNstable\n",
      "10\n",
      "csh_x\n",
      "stable\n",
      "11\n",
      "csh_m\n",
      "stable\n",
      "12\n",
      "csh_r\n",
      "stable\n",
      "13\n",
      "pl_c\n",
      "stable\n",
      "14\n",
      "pl_i\n",
      "UNstable\n",
      "15\n",
      "pl_g\n",
      "stable\n",
      "16\n",
      "pl_x\n",
      "UNstable\n",
      "17\n",
      "pl_m\n",
      "UNstable\n",
      "18\n",
      "pl_n\n",
      "UNstable\n",
      "19\n",
      "pl_k\n",
      "stable\n"
     ]
    }
   ],
   "source": [
    "for i in range(0,20):\n",
    "    adfResult = sm.tsa.stattools.adfuller(df_train.iloc[1:,i])\n",
    "    if adfResult[1]<0.05:\n",
    "        print(i)\n",
    "        print(df.columns[i])\n",
    "        print(\"stable\")\n",
    "    else:\n",
    "        print(i)\n",
    "        print(df.columns[i])\n",
    "        print(\"UNstable\")"
   ]
  },
  {
   "cell_type": "code",
   "execution_count": 8,
   "id": "1038532b",
   "metadata": {},
   "outputs": [
    {
     "name": "stdout",
     "output_type": "stream",
     "text": [
      "0\n",
      "GDP\n",
      "coint\n",
      "1\n",
      "net population growth\n",
      "coint\n",
      "2\n",
      "CPI\n",
      "coint\n",
      "3\n",
      "employment rate\n",
      "coint\n",
      "4\n",
      "labsh\n",
      "coint\n",
      "5\n",
      "xr\n",
      "coint\n",
      "6\n",
      "pl_gdpo\n",
      "coint\n",
      "7\n",
      "csh_c\n",
      "coint\n",
      "8\n",
      "csh_i\n",
      "coint\n",
      "9\n",
      "csh_g\n",
      "coint\n",
      "10\n",
      "csh_x\n",
      "coint\n",
      "11\n",
      "csh_m\n",
      "coint\n",
      "12\n",
      "csh_r\n",
      "coint\n",
      "13\n",
      "pl_c\n",
      "coint\n",
      "14\n",
      "pl_i\n",
      "coint\n",
      "15\n",
      "pl_g\n",
      "coint\n",
      "16\n",
      "pl_x\n",
      "not coint\n",
      "17\n",
      "pl_m\n",
      "coint\n",
      "18\n",
      "pl_n\n",
      "coint\n",
      "19\n",
      "pl_k\n",
      "coint\n"
     ]
    },
    {
     "name": "stderr",
     "output_type": "stream",
     "text": [
      "/Users/Shared/anaconda3/lib/python3.9/site-packages/statsmodels/tsa/stattools.py:1721: CollinearityWarning: y0 and y1 are (almost) perfectly colinear.Cointegration test is not reliable in this case.\n",
      "  warnings.warn(\n"
     ]
    }
   ],
   "source": [
    "for i in range(0,20):\n",
    "    result = sm.tsa.stattools.coint(df_train.iloc[1:,-1],df_train.iloc[1:,i])\n",
    "    if result[1]<0.05:\n",
    "        print(i)\n",
    "        print(df.columns[i])\n",
    "        print(\"coint\")\n",
    "    else:\n",
    "        print(i)\n",
    "        print(df.columns[i])\n",
    "        print(\"not coint\")"
   ]
  },
  {
   "cell_type": "code",
   "execution_count": 9,
   "id": "cc15ca82",
   "metadata": {},
   "outputs": [],
   "source": [
    "df_train = df_train.iloc[1:,[0,3,4,5,6,7,8,10,11,12,13,15]]['1981':'2009']\n",
    "df_test = df_test.iloc[1:,[0,3,4,5,6,7,8,10,11,12,13,15]]['2010':'2019']"
   ]
  },
  {
   "cell_type": "code",
   "execution_count": 10,
   "id": "70a7ada8",
   "metadata": {},
   "outputs": [
    {
     "name": "stdout",
     "output_type": "stream",
     "text": [
      "BEST ORDER: 1 BEST AIC: -51.85378150775706\n"
     ]
    }
   ],
   "source": [
    "### FIND BEST VAR ORDER with AIC ###\n",
    "AIC = {}\n",
    "best_aic, best_order = np.inf, 0\n",
    "lagsToTest = 2\n",
    "for i in range(1, lagsToTest):\n",
    "    model = VAR(df_train.values)\n",
    "    model_result = model.fit(i)\n",
    "    AIC[i] = model_result.aic\n",
    "\n",
    "    if AIC[i] < best_aic:\n",
    "        best_aic = AIC[i]\n",
    "        best_order = i\n",
    "\n",
    "print('BEST ORDER:', best_order, 'BEST AIC:', best_aic)"
   ]
  },
  {
   "cell_type": "code",
   "execution_count": 11,
   "id": "31020c19",
   "metadata": {},
   "outputs": [
    {
     "name": "stdout",
     "output_type": "stream",
     "text": [
      "var_result.aic:  -51.85378150775706\n"
     ]
    }
   ],
   "source": [
    "### FIT FINAL VAR WITH LAG CORRESPONTING TO THE BEST AIC ###\n",
    "var = VAR(df_train)\n",
    "var_result = var.fit(maxlags=best_order)\n",
    "print(\"var_result.aic: \", var_result.aic)"
   ]
  },
  {
   "cell_type": "code",
   "execution_count": 12,
   "id": "f4a3cd0b",
   "metadata": {},
   "outputs": [
    {
     "name": "stdout",
     "output_type": "stream",
     "text": [
      "1\n"
     ]
    }
   ],
   "source": [
    "print(len(df_test.values[-best_order:]))\n",
    "\n",
    "forecast_input = df_test.values[-best_order:]\n",
    "\n",
    "# Forecast\n",
    "fc = var_result.forecast(y = forecast_input, steps=5)\n",
    "df_forecast = pd.DataFrame(fc, index=pd.period_range(start = '2020',end = '2024',freq = 'Y'), columns=df_test.columns)\n",
    "#print(df_forecast)"
   ]
  },
  {
   "cell_type": "code",
   "execution_count": 13,
   "id": "94965dc1",
   "metadata": {},
   "outputs": [
    {
     "data": {
      "text/plain": [
       "<AxesSubplot:>"
      ]
     },
     "execution_count": 13,
     "metadata": {},
     "output_type": "execute_result"
    },
    {
     "data": {
      "image/png": "[encoded data removed]",
      "text/plain": [
       "<Figure size 432x288 with 1 Axes>"
      ]
     },
     "metadata": {
      "needs_background": "light"
     },
     "output_type": "display_data"
    }
   ],
   "source": [
    "plt.figure()\n",
    "df.iloc[1:,0].plot()\n",
    "df_forecast.iloc[:,0].plot()"
   ]
  },
  {
   "cell_type": "code",
   "execution_count": 14,
   "id": "4371ce2d",
   "metadata": {},
   "outputs": [
    {
     "data": {
      "text/plain": [
       "0.2019790991972252"
      ]
     },
     "execution_count": 14,
     "metadata": {},
     "output_type": "execute_result"
    }
   ],
   "source": [
    "predict_Test = var_result.forecast(y = df_train.values, steps=9)\n",
    "rmse(predict_Test[:,0],df_test.iloc[:,0].values)"
   ]
  },
  {
   "cell_type": "code",
   "execution_count": 15,
   "id": "0e45f32d",
   "metadata": {},
   "outputs": [
    {
     "name": "stdout",
     "output_type": "stream",
     "text": [
      "0.2032574699995948\n"
     ]
    },
    {
     "data": {
      "text/plain": [
       "<AxesSubplot:>"
      ]
     },
     "execution_count": 15,
     "metadata": {},
     "output_type": "execute_result"
    },
    {
     "data": {
      "image/png": "[encoded data removed]",
      "text/plain": [
       "<Figure size 432x288 with 1 Axes>"
      ]
     },
     "metadata": {
      "needs_background": "light"
     },
     "output_type": "display_data"
    }
   ],
   "source": [
    "fitted_value = np.zeros((28,df_train.shape[1]))\n",
    "for i in range(0,28,4):\n",
    "    a = var_result.forecast(y = df_train.iloc[i:i+4,:].values, steps=4)\n",
    "    fitted_value[i:i+4,:] = a\n",
    "\n",
    "fitted_value = pd.DataFrame(fitted_value, index=pd.period_range(start = '1985',end = '2012',freq = 'Y'), columns=df_train.columns)\n",
    "#print(df_forecast)\n",
    "\n",
    "print(rmse(fitted_value.iloc[:-3,0],df_train.iloc[4:,0].values))\n",
    "plt.figure()\n",
    "df_train.iloc[:,0].plot()\n",
    "fitted_value.iloc[:,0].plot()"
   ]
  },
  {
   "cell_type": "code",
   "execution_count": 16,
   "id": "2405fe75",
   "metadata": {},
   "outputs": [
    {
     "data": {
      "text/plain": [
       "<AxesSubplot:>"
      ]
     },
     "execution_count": 16,
     "metadata": {},
     "output_type": "execute_result"
    },
    {
     "data": {
      "image/png": "[encoded data removed]",
      "text/plain": [
       "<Figure size 432x288 with 1 Axes>"
      ]
     },
     "metadata": {
      "needs_background": "light"
     },
     "output_type": "display_data"
    }
   ],
   "source": [
    "predict_Test = pd.DataFrame(predict_Test, index=pd.period_range(start = '2011',end = '2019',freq = 'Y'))\n",
    "plt.figure()\n",
    "df.iloc[:,0].plot()\n",
    "fitted_value.iloc[:-1,0].plot()\n",
    "predict_Test.iloc[:,0].plot()"
   ]
  },
  {
   "cell_type": "code",
   "execution_count": 17,
   "id": "3a839ecd",
   "metadata": {},
   "outputs": [
    {
     "ename": "InvalidIndexError",
     "evalue": "(slice(None, None, None), None)",
     "output_type": "error",
     "traceback": [
      "\u001b[0;31m---------------------------------------------------------------------------\u001b[0m",
      "\u001b[0;31mInvalidIndexError\u001b[0m                         Traceback (most recent call last)",
      "Input \u001b[0;32mIn [17]\u001b[0m, in \u001b[0;36m<cell line: 4>\u001b[0;34m()\u001b[0m\n\u001b[1;32m      2\u001b[0m plt\u001b[38;5;241m.\u001b[39mfigure()\n\u001b[1;32m      3\u001b[0m df\u001b[38;5;241m.\u001b[39miloc[:,\u001b[38;5;241m0\u001b[39m]\u001b[38;5;241m.\u001b[39mplot()\n\u001b[0;32m----> 4\u001b[0m \u001b[43mplt\u001b[49m\u001b[38;5;241;43m.\u001b[39;49m\u001b[43mplot\u001b[49m\u001b[43m(\u001b[49m\u001b[43mpd\u001b[49m\u001b[38;5;241;43m.\u001b[39;49m\u001b[43mperiod_range\u001b[49m\u001b[43m(\u001b[49m\u001b[43mstart\u001b[49m\u001b[43m \u001b[49m\u001b[38;5;241;43m=\u001b[39;49m\u001b[43m \u001b[49m\u001b[38;5;124;43m'\u001b[39;49m\u001b[38;5;124;43m1984\u001b[39;49m\u001b[38;5;124;43m'\u001b[39;49m\u001b[43m,\u001b[49m\u001b[43mend\u001b[49m\u001b[43m \u001b[49m\u001b[38;5;241;43m=\u001b[39;49m\u001b[43m \u001b[49m\u001b[38;5;124;43m'\u001b[39;49m\u001b[38;5;124;43m2024\u001b[39;49m\u001b[38;5;124;43m'\u001b[39;49m\u001b[43m,\u001b[49m\u001b[43mfreq\u001b[49m\u001b[43m \u001b[49m\u001b[38;5;241;43m=\u001b[39;49m\u001b[43m \u001b[49m\u001b[38;5;124;43m'\u001b[39;49m\u001b[38;5;124;43mY\u001b[39;49m\u001b[38;5;124;43m'\u001b[39;49m\u001b[43m)\u001b[49m\u001b[43m,\u001b[49m\u001b[43ma\u001b[49m\u001b[43m,\u001b[49m\u001b[43mlabel\u001b[49m\u001b[43m \u001b[49m\u001b[38;5;241;43m=\u001b[39;49m\u001b[43m \u001b[49m\u001b[38;5;124;43m'\u001b[39;49m\u001b[38;5;124;43mVAR\u001b[39;49m\u001b[38;5;124;43m'\u001b[39;49m\u001b[43m)\u001b[49m\n\u001b[1;32m      6\u001b[0m plt\u001b[38;5;241m.\u001b[39mxlim([\u001b[38;5;124m'\u001b[39m\u001b[38;5;124m1980\u001b[39m\u001b[38;5;124m'\u001b[39m,\u001b[38;5;124m'\u001b[39m\u001b[38;5;124m2028\u001b[39m\u001b[38;5;124m'\u001b[39m])\n\u001b[1;32m      7\u001b[0m plt\u001b[38;5;241m.\u001b[39mxlabel(\u001b[38;5;124m'\u001b[39m\u001b[38;5;124mYear\u001b[39m\u001b[38;5;124m'\u001b[39m)\n",
      "File \u001b[0;32m/Users/Shared/anaconda3/lib/python3.9/site-packages/matplotlib/pyplot.py:2757\u001b[0m, in \u001b[0;36mplot\u001b[0;34m(scalex, scaley, data, *args, **kwargs)\u001b[0m\n\u001b[1;32m   2755\u001b[0m \u001b[38;5;129m@_copy_docstring_and_deprecators\u001b[39m(Axes\u001b[38;5;241m.\u001b[39mplot)\n\u001b[1;32m   2756\u001b[0m \u001b[38;5;28;01mdef\u001b[39;00m \u001b[38;5;21mplot\u001b[39m(\u001b[38;5;241m*\u001b[39margs, scalex\u001b[38;5;241m=\u001b[39m\u001b[38;5;28;01mTrue\u001b[39;00m, scaley\u001b[38;5;241m=\u001b[39m\u001b[38;5;28;01mTrue\u001b[39;00m, data\u001b[38;5;241m=\u001b[39m\u001b[38;5;28;01mNone\u001b[39;00m, \u001b[38;5;241m*\u001b[39m\u001b[38;5;241m*\u001b[39mkwargs):\n\u001b[0;32m-> 2757\u001b[0m     \u001b[38;5;28;01mreturn\u001b[39;00m \u001b[43mgca\u001b[49m\u001b[43m(\u001b[49m\u001b[43m)\u001b[49m\u001b[38;5;241;43m.\u001b[39;49m\u001b[43mplot\u001b[49m\u001b[43m(\u001b[49m\n\u001b[1;32m   2758\u001b[0m \u001b[43m        \u001b[49m\u001b[38;5;241;43m*\u001b[39;49m\u001b[43margs\u001b[49m\u001b[43m,\u001b[49m\u001b[43m \u001b[49m\u001b[43mscalex\u001b[49m\u001b[38;5;241;43m=\u001b[39;49m\u001b[43mscalex\u001b[49m\u001b[43m,\u001b[49m\u001b[43m \u001b[49m\u001b[43mscaley\u001b[49m\u001b[38;5;241;43m=\u001b[39;49m\u001b[43mscaley\u001b[49m\u001b[43m,\u001b[49m\n\u001b[1;32m   2759\u001b[0m \u001b[43m        \u001b[49m\u001b[38;5;241;43m*\u001b[39;49m\u001b[38;5;241;43m*\u001b[39;49m\u001b[43m(\u001b[49m\u001b[43m{\u001b[49m\u001b[38;5;124;43m\"\u001b[39;49m\u001b[38;5;124;43mdata\u001b[39;49m\u001b[38;5;124;43m\"\u001b[39;49m\u001b[43m:\u001b[49m\u001b[43m \u001b[49m\u001b[43mdata\u001b[49m\u001b[43m}\u001b[49m\u001b[43m \u001b[49m\u001b[38;5;28;43;01mif\u001b[39;49;00m\u001b[43m \u001b[49m\u001b[43mdata\u001b[49m\u001b[43m \u001b[49m\u001b[38;5;129;43;01mis\u001b[39;49;00m\u001b[43m \u001b[49m\u001b[38;5;129;43;01mnot\u001b[39;49;00m\u001b[43m \u001b[49m\u001b[38;5;28;43;01mNone\u001b[39;49;00m\u001b[43m \u001b[49m\u001b[38;5;28;43;01melse\u001b[39;49;00m\u001b[43m \u001b[49m\u001b[43m{\u001b[49m\u001b[43m}\u001b[49m\u001b[43m)\u001b[49m\u001b[43m,\u001b[49m\u001b[43m \u001b[49m\u001b[38;5;241;43m*\u001b[39;49m\u001b[38;5;241;43m*\u001b[39;49m\u001b[43mkwargs\u001b[49m\u001b[43m)\u001b[49m\n",
      "File \u001b[0;32m/Users/Shared/anaconda3/lib/python3.9/site-packages/matplotlib/axes/_axes.py:1632\u001b[0m, in \u001b[0;36mAxes.plot\u001b[0;34m(self, scalex, scaley, data, *args, **kwargs)\u001b[0m\n\u001b[1;32m   1390\u001b[0m \u001b[38;5;124;03m\"\"\"\u001b[39;00m\n\u001b[1;32m   1391\u001b[0m \u001b[38;5;124;03mPlot y versus x as lines and/or markers.\u001b[39;00m\n\u001b[1;32m   1392\u001b[0m \n\u001b[0;32m   (...)\u001b[0m\n\u001b[1;32m   1629\u001b[0m \u001b[38;5;124;03m(``'green'``) or hex strings (``'#008000'``).\u001b[39;00m\n\u001b[1;32m   1630\u001b[0m \u001b[38;5;124;03m\"\"\"\u001b[39;00m\n\u001b[1;32m   1631\u001b[0m kwargs \u001b[38;5;241m=\u001b[39m cbook\u001b[38;5;241m.\u001b[39mnormalize_kwargs(kwargs, mlines\u001b[38;5;241m.\u001b[39mLine2D)\n\u001b[0;32m-> 1632\u001b[0m lines \u001b[38;5;241m=\u001b[39m [\u001b[38;5;241m*\u001b[39m\u001b[38;5;28mself\u001b[39m\u001b[38;5;241m.\u001b[39m_get_lines(\u001b[38;5;241m*\u001b[39margs, data\u001b[38;5;241m=\u001b[39mdata, \u001b[38;5;241m*\u001b[39m\u001b[38;5;241m*\u001b[39mkwargs)]\n\u001b[1;32m   1633\u001b[0m \u001b[38;5;28;01mfor\u001b[39;00m line \u001b[38;5;129;01min\u001b[39;00m lines:\n\u001b[1;32m   1634\u001b[0m     \u001b[38;5;28mself\u001b[39m\u001b[38;5;241m.\u001b[39madd_line(line)\n",
      "File \u001b[0;32m/Users/Shared/anaconda3/lib/python3.9/site-packages/matplotlib/axes/_base.py:312\u001b[0m, in \u001b[0;36m_process_plot_var_args.__call__\u001b[0;34m(self, data, *args, **kwargs)\u001b[0m\n\u001b[1;32m    310\u001b[0m     this \u001b[38;5;241m+\u001b[39m\u001b[38;5;241m=\u001b[39m args[\u001b[38;5;241m0\u001b[39m],\n\u001b[1;32m    311\u001b[0m     args \u001b[38;5;241m=\u001b[39m args[\u001b[38;5;241m1\u001b[39m:]\n\u001b[0;32m--> 312\u001b[0m \u001b[38;5;28;01myield from\u001b[39;00m \u001b[38;5;28;43mself\u001b[39;49m\u001b[38;5;241;43m.\u001b[39;49m\u001b[43m_plot_args\u001b[49m\u001b[43m(\u001b[49m\u001b[43mthis\u001b[49m\u001b[43m,\u001b[49m\u001b[43m \u001b[49m\u001b[43mkwargs\u001b[49m\u001b[43m)\u001b[49m\n",
      "File \u001b[0;32m/Users/Shared/anaconda3/lib/python3.9/site-packages/matplotlib/axes/_base.py:488\u001b[0m, in \u001b[0;36m_process_plot_var_args._plot_args\u001b[0;34m(self, tup, kwargs, return_kwargs)\u001b[0m\n\u001b[1;32m    486\u001b[0m \u001b[38;5;28;01mif\u001b[39;00m \u001b[38;5;28mlen\u001b[39m(xy) \u001b[38;5;241m==\u001b[39m \u001b[38;5;241m2\u001b[39m:\n\u001b[1;32m    487\u001b[0m     x \u001b[38;5;241m=\u001b[39m _check_1d(xy[\u001b[38;5;241m0\u001b[39m])\n\u001b[0;32m--> 488\u001b[0m     y \u001b[38;5;241m=\u001b[39m \u001b[43m_check_1d\u001b[49m\u001b[43m(\u001b[49m\u001b[43mxy\u001b[49m\u001b[43m[\u001b[49m\u001b[38;5;241;43m1\u001b[39;49m\u001b[43m]\u001b[49m\u001b[43m)\u001b[49m\n\u001b[1;32m    489\u001b[0m \u001b[38;5;28;01melse\u001b[39;00m:\n\u001b[1;32m    490\u001b[0m     x, y \u001b[38;5;241m=\u001b[39m index_of(xy[\u001b[38;5;241m-\u001b[39m\u001b[38;5;241m1\u001b[39m])\n",
      "File \u001b[0;32m/Users/Shared/anaconda3/lib/python3.9/site-packages/matplotlib/cbook/__init__.py:1327\u001b[0m, in \u001b[0;36m_check_1d\u001b[0;34m(x)\u001b[0m\n\u001b[1;32m   1321\u001b[0m \u001b[38;5;28;01mwith\u001b[39;00m warnings\u001b[38;5;241m.\u001b[39mcatch_warnings(record\u001b[38;5;241m=\u001b[39m\u001b[38;5;28;01mTrue\u001b[39;00m) \u001b[38;5;28;01mas\u001b[39;00m w:\n\u001b[1;32m   1322\u001b[0m     warnings\u001b[38;5;241m.\u001b[39mfilterwarnings(\n\u001b[1;32m   1323\u001b[0m         \u001b[38;5;124m\"\u001b[39m\u001b[38;5;124malways\u001b[39m\u001b[38;5;124m\"\u001b[39m,\n\u001b[1;32m   1324\u001b[0m         category\u001b[38;5;241m=\u001b[39m\u001b[38;5;167;01mWarning\u001b[39;00m,\n\u001b[1;32m   1325\u001b[0m         message\u001b[38;5;241m=\u001b[39m\u001b[38;5;124m'\u001b[39m\u001b[38;5;124mSupport for multi-dimensional indexing\u001b[39m\u001b[38;5;124m'\u001b[39m)\n\u001b[0;32m-> 1327\u001b[0m     ndim \u001b[38;5;241m=\u001b[39m \u001b[43mx\u001b[49m\u001b[43m[\u001b[49m\u001b[43m:\u001b[49m\u001b[43m,\u001b[49m\u001b[43m \u001b[49m\u001b[38;5;28;43;01mNone\u001b[39;49;00m\u001b[43m]\u001b[49m\u001b[38;5;241m.\u001b[39mndim\n\u001b[1;32m   1328\u001b[0m     \u001b[38;5;66;03m# we have definitely hit a pandas index or series object\u001b[39;00m\n\u001b[1;32m   1329\u001b[0m     \u001b[38;5;66;03m# cast to a numpy array.\u001b[39;00m\n\u001b[1;32m   1330\u001b[0m     \u001b[38;5;28;01mif\u001b[39;00m \u001b[38;5;28mlen\u001b[39m(w) \u001b[38;5;241m>\u001b[39m \u001b[38;5;241m0\u001b[39m:\n",
      "File \u001b[0;32m/Users/Shared/anaconda3/lib/python3.9/site-packages/pandas/core/frame.py:3505\u001b[0m, in \u001b[0;36mDataFrame.__getitem__\u001b[0;34m(self, key)\u001b[0m\n\u001b[1;32m   3503\u001b[0m \u001b[38;5;28;01mif\u001b[39;00m \u001b[38;5;28mself\u001b[39m\u001b[38;5;241m.\u001b[39mcolumns\u001b[38;5;241m.\u001b[39mnlevels \u001b[38;5;241m>\u001b[39m \u001b[38;5;241m1\u001b[39m:\n\u001b[1;32m   3504\u001b[0m     \u001b[38;5;28;01mreturn\u001b[39;00m \u001b[38;5;28mself\u001b[39m\u001b[38;5;241m.\u001b[39m_getitem_multilevel(key)\n\u001b[0;32m-> 3505\u001b[0m indexer \u001b[38;5;241m=\u001b[39m \u001b[38;5;28;43mself\u001b[39;49m\u001b[38;5;241;43m.\u001b[39;49m\u001b[43mcolumns\u001b[49m\u001b[38;5;241;43m.\u001b[39;49m\u001b[43mget_loc\u001b[49m\u001b[43m(\u001b[49m\u001b[43mkey\u001b[49m\u001b[43m)\u001b[49m\n\u001b[1;32m   3506\u001b[0m \u001b[38;5;28;01mif\u001b[39;00m is_integer(indexer):\n\u001b[1;32m   3507\u001b[0m     indexer \u001b[38;5;241m=\u001b[39m [indexer]\n",
      "File \u001b[0;32m/Users/Shared/anaconda3/lib/python3.9/site-packages/pandas/core/indexes/range.py:388\u001b[0m, in \u001b[0;36mRangeIndex.get_loc\u001b[0;34m(self, key, method, tolerance)\u001b[0m\n\u001b[1;32m    386\u001b[0m         \u001b[38;5;28;01mexcept\u001b[39;00m \u001b[38;5;167;01mValueError\u001b[39;00m \u001b[38;5;28;01mas\u001b[39;00m err:\n\u001b[1;32m    387\u001b[0m             \u001b[38;5;28;01mraise\u001b[39;00m \u001b[38;5;167;01mKeyError\u001b[39;00m(key) \u001b[38;5;28;01mfrom\u001b[39;00m \u001b[38;5;21;01merr\u001b[39;00m\n\u001b[0;32m--> 388\u001b[0m     \u001b[38;5;28;43mself\u001b[39;49m\u001b[38;5;241;43m.\u001b[39;49m\u001b[43m_check_indexing_error\u001b[49m\u001b[43m(\u001b[49m\u001b[43mkey\u001b[49m\u001b[43m)\u001b[49m\n\u001b[1;32m    389\u001b[0m     \u001b[38;5;28;01mraise\u001b[39;00m \u001b[38;5;167;01mKeyError\u001b[39;00m(key)\n\u001b[1;32m    390\u001b[0m \u001b[38;5;28;01mreturn\u001b[39;00m \u001b[38;5;28msuper\u001b[39m()\u001b[38;5;241m.\u001b[39mget_loc(key, method\u001b[38;5;241m=\u001b[39mmethod, tolerance\u001b[38;5;241m=\u001b[39mtolerance)\n",
      "File \u001b[0;32m/Users/Shared/anaconda3/lib/python3.9/site-packages/pandas/core/indexes/base.py:5637\u001b[0m, in \u001b[0;36mIndex._check_indexing_error\u001b[0;34m(self, key)\u001b[0m\n\u001b[1;32m   5633\u001b[0m \u001b[38;5;28;01mdef\u001b[39;00m \u001b[38;5;21m_check_indexing_error\u001b[39m(\u001b[38;5;28mself\u001b[39m, key):\n\u001b[1;32m   5634\u001b[0m     \u001b[38;5;28;01mif\u001b[39;00m \u001b[38;5;129;01mnot\u001b[39;00m is_scalar(key):\n\u001b[1;32m   5635\u001b[0m         \u001b[38;5;66;03m# if key is not a scalar, directly raise an error (the code below\u001b[39;00m\n\u001b[1;32m   5636\u001b[0m         \u001b[38;5;66;03m# would convert to numpy arrays and raise later any way) - GH29926\u001b[39;00m\n\u001b[0;32m-> 5637\u001b[0m         \u001b[38;5;28;01mraise\u001b[39;00m InvalidIndexError(key)\n",
      "\u001b[0;31mInvalidIndexError\u001b[0m: (slice(None, None, None), None)"
     ]
    },
    {
     "data": {
      "image/png": "[encoded data removed]",
      "text/plain": [
       "<Figure size 432x288 with 1 Axes>"
      ]
     },
     "metadata": {
      "needs_background": "light"
     },
     "output_type": "display_data"
    }
   ],
   "source": [
    "a = pd.DataFrame(np.hstack((fitted_value.iloc[:-1,0].values,predict_Test.iloc[:,0].values,df_forecast.iloc[:,0].values)),index=pd.period_range(start = '1984',end = '2024',freq = 'Y'))\n",
    "plt.figure()\n",
    "df.iloc[:,0].plot()\n",
    "plt.plot(pd.period_range(start = '1984',end = '2024',freq = 'Y'),a,label = 'VAR')\n",
    "\n",
    "plt.xlim(['1980','2028'])\n",
    "plt.xlabel('Year')\n",
    "plt.ylabel('GDP')\n",
    "plt.legend()\n",
    "plt.show()"
   ]
  },
  {
   "cell_type": "code",
   "execution_count": null,
   "id": "ed8224b6",
   "metadata": {},
   "outputs": [],
   "source": []
  }
 ],
 "metadata": {
  "kernelspec": {
   "display_name": "Python 3 (ipykernel)",
   "language": "python",
   "name": "python3"
  },
  "language_info": {
   "codemirror_mode": {
    "name": "ipython",
    "version": 3
   },
   "file_extension": ".py",
   "mimetype": "text/x-python",
   "name": "python",
   "nbconvert_exporter": "python",
   "pygments_lexer": "ipython3",
   "version": "3.9.12"
  }
 },
 "nbformat": 4,
 "nbformat_minor": 5
}
