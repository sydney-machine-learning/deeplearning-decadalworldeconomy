{
 "cells": [
  {
   "cell_type": "code",
   "execution_count": 1,
   "id": "3a90d824",
   "metadata": {},
   "outputs": [
    {
     "name": "stderr",
     "output_type": "stream",
     "text": [
      "2022-11-05 11:07:13.369800: I tensorflow/core/platform/cpu_feature_guard.cc:193] This TensorFlow binary is optimized with oneAPI Deep Neural Network Library (oneDNN) to use the following CPU instructions in performance-critical operations:  AVX2 FMA\n",
      "To enable them in other operations, rebuild TensorFlow with the appropriate compiler flags.\n"
     ]
    }
   ],
   "source": [
    "import copy\n",
    "import numpy as np\n",
    "import sklearn\n",
    "import pandas as pd\n",
    "import matplotlib.pyplot as plt\n",
    "from keras.models import Sequential\n",
    "from keras.layers import Dense\n",
    "from keras.layers import LSTM\n",
    "from keras.layers import Bidirectional\n",
    "from keras.layers import RepeatVector\n",
    "from keras.layers import TimeDistributed\n",
    "from keras.layers import Flatten\n",
    "from keras.layers.convolutional import Conv1D\n",
    "from keras.layers.convolutional import MaxPooling1D\n",
    "import datetime\n",
    "import time\n",
    "import joblib\n",
    "from datetime import timedelta, date\n",
    "import tensorflow as tf\n",
    "from sklearn.preprocessing import MinMaxScaler\n",
    "import os\n",
    "import seaborn as sns\n",
    "import statsmodels.api as sm\n",
    "from statsmodels.tsa.stattools import adfuller\n",
    "from statsmodels.stats.diagnostic import acorr_ljungbox\n",
    "from statsmodels.graphics.tsaplots import plot_acf,plot_pacf\n",
    "from statsmodels.tsa.arima_model import ARIMA\n",
    "from statsmodels.tsa.arima_model import ARMA\n",
    "from statsmodels.stats.stattools import durbin_watson\n",
    "from statsmodels.graphics.api import qqplot\n",
    "from sklearn.decomposition import PCA\n",
    "\n",
    "from sklearn.metrics import mean_squared_error\n",
    "\n",
    "import seaborn as sns;\n",
    "\n",
    "import warnings\n",
    "warnings.filterwarnings(\"ignore\")\n",
    "\n",
    "sns.set_theme()\n",
    "\n",
    "import errno\n",
    "\n",
    "from numpy import array\n",
    "\n",
    "import tensorflow as tf\n",
    "early_stopping_callback = tf.keras.callbacks.EarlyStopping(monitor='loss', patience=3)"
   ]
  },
  {
   "cell_type": "code",
   "execution_count": 2,
   "id": "e6201209",
   "metadata": {},
   "outputs": [],
   "source": [
    "# PATHS TO DATA OR RESULTS\n",
    "\n",
    "data_path = \"./Year data P//\"\n",
    "results_path = \"./results//\"\n"
   ]
  },
  {
   "cell_type": "code",
   "execution_count": 3,
   "id": "bd8463cc",
   "metadata": {},
   "outputs": [],
   "source": [
    "df = pd.read_csv(data_path + 'Germany//Germany Data.csv')\n",
    "df = df.loc[df['year'] >= 1980]\n",
    "df = df.drop(['countrycode','country','currency_unit','year'],axis = 1)\n",
    "year = pd.period_range('1980', '2019', freq='Y')\n",
    "df.index = year"
   ]
  },
  {
   "cell_type": "code",
   "execution_count": 4,
   "id": "1b443e62",
   "metadata": {},
   "outputs": [],
   "source": [
    "def rmse(pred, actual):\n",
    "    return np.sqrt(((pred - actual) ** 2).mean())\n",
    "\n",
    "\n",
    "# split a multivariate sequence into samples\n",
    "def split_sequences(sequences, n_steps_in, n_steps_out):\n",
    "    X, y = list(), list()\n",
    "    for i in range(len(sequences)):\n",
    "        # find the end of this pattern\n",
    "        end_ix = i + n_steps_in\n",
    "        out_end_ix = end_ix + n_steps_out\n",
    "        # check if we are beyond the dataset\n",
    "        if out_end_ix > len(sequences):\n",
    "            break\n",
    "        # gather input and output parts of the pattern\n",
    "        seq_x, seq_y = sequences.iloc[i:end_ix, :], sequences.iloc[end_ix:out_end_ix, :]\n",
    "        X.append(seq_x)\n",
    "        y.append(seq_y)\n",
    "    return array(X), array(y)\n",
    "\n",
    "def reshape_sequence(sequence, n_steps_in):\n",
    "    X = list()\n",
    "    for i in range(len(sequence)):\n",
    "        # find the end of this pattern\n",
    "        end_ix = i + n_steps_in\n",
    "\n",
    "        # check if we are beyond the sequence\n",
    "        if end_ix > len(sequence):\n",
    "            break\n",
    "        # gather input and output parts of the pattern\n",
    "        seq_x = sequence[i:end_ix,:-1]\n",
    "        X.append(seq_x)\n",
    "\n",
    "    return np.array(X)"
   ]
  },
  {
   "cell_type": "code",
   "execution_count": 5,
   "id": "005557a9",
   "metadata": {},
   "outputs": [],
   "source": [
    "from sklearn.model_selection import ShuffleSplit\n",
    "rs = ShuffleSplit(n_splits=1, test_size=.25, random_state=0)\n",
    "\n",
    "def shuffled_test_train(n_inp, n_out, sequence):\n",
    "    batches = []\n",
    "    for i in range(len(sequence)):\n",
    "        if (i + n_inp + n_out > len(sequence)):\n",
    "            break\n",
    "        batches.append(sequence[i:i + n_inp + n_out])\n",
    "  \n",
    "    train = []\n",
    "    test = []\n",
    "    for train_index, test_index in rs.split(batches):\n",
    "        print(\"TRAIN:\", train_index, \"TEST:\", test_index)\n",
    "    for i in train_index:\n",
    "        train.append(batches[i])\n",
    "    for i in test_index:\n",
    "        test.append(batches[i])\n",
    "    \n",
    "    train = np.array(train)\n",
    "    trainX = train[:,:n_inp,:-1]\n",
    "    trainY = train[:,n_inp:,:-1]\n",
    "    test = np.array(test)\n",
    "    testX = test[:,:n_inp,:-1]\n",
    "    testY = test[:,n_inp:,:-1]\n",
    "\n",
    "    return train,test,trainX,trainY,testX,testY"
   ]
  },
  {
   "cell_type": "code",
   "execution_count": 6,
   "id": "7f4cf741",
   "metadata": {},
   "outputs": [],
   "source": [
    "x,y = split_sequences(df,5,3)"
   ]
  },
  {
   "cell_type": "code",
   "execution_count": 7,
   "id": "a0be3255",
   "metadata": {},
   "outputs": [
    {
     "name": "stdout",
     "output_type": "stream",
     "text": [
      "TRAIN: [32 29 23 15  8 13 30  5 14 28 22  1 12  6  4 18 21 19  9  7 31 27  3  0] TEST: [11 20 24 17  2 25 26 16 10]\n"
     ]
    }
   ],
   "source": [
    "train,test,x_train,y_train,x_test,y_test = shuffled_test_train(5,3,df)"
   ]
  },
  {
   "cell_type": "code",
   "execution_count": 8,
   "id": "69564389",
   "metadata": {},
   "outputs": [
    {
     "data": {
      "text/plain": [
       "(24, 5, 20)"
      ]
     },
     "execution_count": 8,
     "metadata": {},
     "output_type": "execute_result"
    }
   ],
   "source": [
    "x_train.shape"
   ]
  },
  {
   "cell_type": "code",
   "execution_count": 9,
   "id": "b5568a37",
   "metadata": {},
   "outputs": [],
   "source": [
    "n_steps_in = 5\n",
    "n_steps_out = 3\n",
    "Num_Exp = 50\n",
    "Hidden = 10\n",
    "Epochs= 1000"
   ]
  },
  {
   "cell_type": "code",
   "execution_count": 10,
   "id": "da3e81c8",
   "metadata": {},
   "outputs": [],
   "source": [
    "Xscaler =MinMaxScaler()\n",
    "df.iloc[:,0:-1]=Xscaler.fit_transform(df.values[:,0:-1])\n",
    "\n",
    "Yscaler = MinMaxScaler()\n",
    "Yscaled=Yscaler.fit_transform(df.values[:,-1].reshape(-1,1))\n",
    "df.iloc[:,-1] = Yscaled.reshape(-1,)"
   ]
  },
  {
   "cell_type": "code",
   "execution_count": 11,
   "id": "593a8765",
   "metadata": {},
   "outputs": [
    {
     "data": {
      "text/plain": [
       "(40, 21)"
      ]
     },
     "execution_count": 11,
     "metadata": {},
     "output_type": "execute_result"
    }
   ],
   "source": [
    "df.shape"
   ]
  },
  {
   "cell_type": "code",
   "execution_count": 12,
   "id": "0cf7611b",
   "metadata": {},
   "outputs": [
    {
     "name": "stdout",
     "output_type": "stream",
     "text": [
      "(24, 5, 20)\n",
      "(9, 5, 20)\n"
     ]
    }
   ],
   "source": [
    "n_features = x_train.shape[2]\n",
    "x_features = df.shape[1]-1\n",
    "x_train = x_train.reshape((x_train.shape[0], x_train.shape[1], n_features))\n",
    "print(x_train.shape)\n",
    "x_test = x_test.reshape((x_test.shape[0], x_test.shape[1], n_features))\n",
    "print(x_test.shape)\n",
    "x = reshape_sequence(df.values,n_steps_in)\n",
    "x = x.reshape((x.shape[0], x.shape[1], x_features))"
   ]
  },
  {
   "cell_type": "code",
   "execution_count": 13,
   "id": "38fa6876",
   "metadata": {},
   "outputs": [
    {
     "name": "stderr",
     "output_type": "stream",
     "text": [
      "2022-11-05 11:09:13.703576: I tensorflow/core/platform/cpu_feature_guard.cc:193] This TensorFlow binary is optimized with oneAPI Deep Neural Network Library (oneDNN) to use the following CPU instructions in performance-critical operations:  AVX2 FMA\n",
      "To enable them in other operations, rebuild TensorFlow with the appropriate compiler flags.\n"
     ]
    },
    {
     "name": "stdout",
     "output_type": "stream",
     "text": [
      "Model: \"sequential\"\n",
      "_________________________________________________________________\n",
      " Layer (type)                Output Shape              Param #   \n",
      "=================================================================\n",
      " lstm (LSTM)                 (None, 300)               385200    \n",
      "                                                                 \n",
      " repeat_vector (RepeatVector  (None, 3, 300)           0         \n",
      " )                                                               \n",
      "                                                                 \n",
      " lstm_1 (LSTM)               (None, 3, 300)            721200    \n",
      "                                                                 \n",
      " time_distributed (TimeDistr  (None, 3, 20)            6020      \n",
      " ibuted)                                                         \n",
      "                                                                 \n",
      "=================================================================\n",
      "Total params: 1,112,420\n",
      "Trainable params: 1,112,420\n",
      "Non-trainable params: 0\n",
      "_________________________________________________________________\n",
      "Experiment 1 in progress\n",
      "1/1 [==============================] - 0s 306ms/step\n",
      "1/1 [==============================] - 0s 24ms/step\n",
      "2/2 [==============================] - 0s 4ms/step\n",
      "Experiment 2 in progress\n",
      "1/1 [==============================] - 0s 22ms/step\n",
      "1/1 [==============================] - 0s 23ms/step\n",
      "2/2 [==============================] - 0s 3ms/step\n",
      "Experiment 3 in progress\n",
      "1/1 [==============================] - 0s 22ms/step\n",
      "1/1 [==============================] - 0s 27ms/step\n",
      "2/2 [==============================] - 0s 3ms/step\n",
      "Experiment 4 in progress\n",
      "1/1 [==============================] - 0s 25ms/step\n",
      "1/1 [==============================] - 0s 27ms/step\n",
      "2/2 [==============================] - 0s 6ms/step\n",
      "Experiment 5 in progress\n",
      "1/1 [==============================] - 0s 23ms/step\n",
      "1/1 [==============================] - 0s 22ms/step\n",
      "2/2 [==============================] - 0s 3ms/step\n",
      "Experiment 6 in progress\n",
      "1/1 [==============================] - 0s 22ms/step\n",
      "1/1 [==============================] - 0s 21ms/step\n",
      "2/2 [==============================] - 0s 4ms/step\n",
      "Experiment 7 in progress\n",
      "1/1 [==============================] - 0s 23ms/step\n",
      "1/1 [==============================] - 0s 22ms/step\n",
      "2/2 [==============================] - 0s 4ms/step\n",
      "Experiment 8 in progress\n",
      "1/1 [==============================] - 0s 30ms/step\n",
      "1/1 [==============================] - 0s 26ms/step\n",
      "2/2 [==============================] - 0s 15ms/step\n",
      "Experiment 9 in progress\n",
      "1/1 [==============================] - 0s 23ms/step\n",
      "1/1 [==============================] - 0s 22ms/step\n",
      "2/2 [==============================] - 0s 5ms/step\n",
      "Experiment 10 in progress\n",
      "1/1 [==============================] - 0s 22ms/step\n",
      "1/1 [==============================] - 0s 21ms/step\n",
      "2/2 [==============================] - 0s 4ms/step\n",
      "Experiment 11 in progress\n",
      "1/1 [==============================] - 0s 23ms/step\n",
      "1/1 [==============================] - 0s 21ms/step\n",
      "2/2 [==============================] - 0s 3ms/step\n",
      "Experiment 12 in progress\n",
      "1/1 [==============================] - 0s 23ms/step\n",
      "1/1 [==============================] - 0s 22ms/step\n",
      "2/2 [==============================] - 0s 4ms/step\n",
      "Experiment 13 in progress\n",
      "1/1 [==============================] - 0s 24ms/step\n",
      "1/1 [==============================] - 0s 22ms/step\n",
      "2/2 [==============================] - 0s 3ms/step\n",
      "Experiment 14 in progress\n",
      "1/1 [==============================] - 0s 23ms/step\n",
      "1/1 [==============================] - 0s 23ms/step\n",
      "2/2 [==============================] - 0s 4ms/step\n",
      "Experiment 15 in progress\n",
      "1/1 [==============================] - 0s 22ms/step\n",
      "1/1 [==============================] - 0s 21ms/step\n",
      "2/2 [==============================] - 0s 4ms/step\n",
      "Experiment 16 in progress\n",
      "1/1 [==============================] - 0s 22ms/step\n",
      "1/1 [==============================] - 0s 21ms/step\n",
      "2/2 [==============================] - 0s 3ms/step\n",
      "Experiment 17 in progress\n",
      "1/1 [==============================] - 0s 22ms/step\n",
      "1/1 [==============================] - 0s 21ms/step\n",
      "2/2 [==============================] - 0s 4ms/step\n",
      "Experiment 18 in progress\n",
      "1/1 [==============================] - 0s 22ms/step\n",
      "1/1 [==============================] - 0s 21ms/step\n",
      "2/2 [==============================] - 0s 4ms/step\n",
      "Experiment 19 in progress\n",
      "1/1 [==============================] - 0s 25ms/step\n",
      "1/1 [==============================] - 0s 23ms/step\n",
      "2/2 [==============================] - 0s 4ms/step\n",
      "Experiment 20 in progress\n",
      "1/1 [==============================] - 0s 26ms/step\n",
      "1/1 [==============================] - 0s 24ms/step\n",
      "2/2 [==============================] - 0s 3ms/step\n",
      "Experiment 21 in progress\n",
      "1/1 [==============================] - 0s 25ms/step\n",
      "1/1 [==============================] - 0s 25ms/step\n",
      "2/2 [==============================] - 0s 3ms/step\n",
      "Experiment 22 in progress\n",
      "1/1 [==============================] - 0s 22ms/step\n",
      "1/1 [==============================] - 0s 21ms/step\n",
      "2/2 [==============================] - 0s 4ms/step\n",
      "Experiment 23 in progress\n",
      "1/1 [==============================] - 0s 23ms/step\n",
      "1/1 [==============================] - 0s 22ms/step\n",
      "2/2 [==============================] - 0s 3ms/step\n",
      "Experiment 24 in progress\n",
      "1/1 [==============================] - 0s 27ms/step\n",
      "1/1 [==============================] - 0s 23ms/step\n",
      "2/2 [==============================] - 0s 4ms/step\n",
      "Experiment 25 in progress\n",
      "1/1 [==============================] - 0s 23ms/step\n",
      "1/1 [==============================] - 0s 22ms/step\n",
      "2/2 [==============================] - 0s 3ms/step\n",
      "Experiment 26 in progress\n",
      "1/1 [==============================] - 0s 22ms/step\n",
      "1/1 [==============================] - 0s 23ms/step\n",
      "2/2 [==============================] - 0s 4ms/step\n",
      "Experiment 27 in progress\n",
      "1/1 [==============================] - 0s 25ms/step\n",
      "1/1 [==============================] - 0s 23ms/step\n",
      "2/2 [==============================] - 0s 4ms/step\n",
      "Experiment 28 in progress\n",
      "1/1 [==============================] - 0s 22ms/step\n",
      "1/1 [==============================] - 0s 23ms/step\n",
      "2/2 [==============================] - 0s 3ms/step\n",
      "Experiment 29 in progress\n",
      "1/1 [==============================] - 0s 22ms/step\n",
      "1/1 [==============================] - 0s 21ms/step\n",
      "2/2 [==============================] - 0s 3ms/step\n",
      "Experiment 30 in progress\n",
      "1/1 [==============================] - 0s 23ms/step\n",
      "1/1 [==============================] - 0s 21ms/step\n",
      "2/2 [==============================] - 0s 4ms/step\n",
      "Experiment 31 in progress\n",
      "1/1 [==============================] - 0s 23ms/step\n",
      "1/1 [==============================] - 0s 23ms/step\n",
      "2/2 [==============================] - 0s 3ms/step\n",
      "Experiment 32 in progress\n",
      "1/1 [==============================] - 0s 23ms/step\n",
      "1/1 [==============================] - 0s 21ms/step\n",
      "2/2 [==============================] - 0s 4ms/step\n",
      "Experiment 33 in progress\n",
      "1/1 [==============================] - 0s 22ms/step\n",
      "1/1 [==============================] - 0s 22ms/step\n",
      "2/2 [==============================] - 0s 3ms/step\n",
      "Experiment 34 in progress\n",
      "1/1 [==============================] - 0s 22ms/step\n",
      "1/1 [==============================] - 0s 22ms/step\n",
      "2/2 [==============================] - 0s 4ms/step\n",
      "Experiment 35 in progress\n",
      "1/1 [==============================] - 0s 23ms/step\n",
      "1/1 [==============================] - 0s 22ms/step\n",
      "2/2 [==============================] - 0s 4ms/step\n",
      "Experiment 36 in progress\n",
      "1/1 [==============================] - 0s 24ms/step\n",
      "1/1 [==============================] - 0s 23ms/step\n",
      "2/2 [==============================] - 0s 3ms/step\n",
      "Experiment 37 in progress\n",
      "1/1 [==============================] - 0s 22ms/step\n",
      "1/1 [==============================] - 0s 22ms/step\n",
      "2/2 [==============================] - 0s 4ms/step\n",
      "Experiment 38 in progress\n",
      "1/1 [==============================] - 0s 22ms/step\n",
      "1/1 [==============================] - 0s 24ms/step\n",
      "2/2 [==============================] - 0s 3ms/step\n",
      "Experiment 39 in progress\n",
      "1/1 [==============================] - 0s 22ms/step\n",
      "1/1 [==============================] - 0s 21ms/step\n",
      "2/2 [==============================] - 0s 4ms/step\n",
      "Experiment 40 in progress\n"
     ]
    },
    {
     "name": "stdout",
     "output_type": "stream",
     "text": [
      "1/1 [==============================] - 0s 22ms/step\n",
      "1/1 [==============================] - 0s 21ms/step\n",
      "2/2 [==============================] - 0s 4ms/step\n",
      "Experiment 41 in progress\n",
      "1/1 [==============================] - 0s 23ms/step\n",
      "1/1 [==============================] - 0s 22ms/step\n",
      "2/2 [==============================] - 0s 3ms/step\n",
      "Experiment 42 in progress\n",
      "1/1 [==============================] - 0s 23ms/step\n",
      "1/1 [==============================] - 0s 21ms/step\n",
      "2/2 [==============================] - 0s 3ms/step\n",
      "Experiment 43 in progress\n",
      "1/1 [==============================] - 0s 22ms/step\n",
      "1/1 [==============================] - 0s 24ms/step\n",
      "2/2 [==============================] - 0s 4ms/step\n",
      "Experiment 44 in progress\n",
      "1/1 [==============================] - 0s 22ms/step\n",
      "1/1 [==============================] - 0s 21ms/step\n",
      "2/2 [==============================] - 0s 3ms/step\n",
      "Experiment 45 in progress\n",
      "1/1 [==============================] - 0s 23ms/step\n",
      "1/1 [==============================] - 0s 21ms/step\n",
      "2/2 [==============================] - 0s 3ms/step\n",
      "Experiment 46 in progress\n",
      "1/1 [==============================] - 0s 22ms/step\n",
      "1/1 [==============================] - 0s 21ms/step\n",
      "2/2 [==============================] - 0s 4ms/step\n",
      "Experiment 47 in progress\n",
      "1/1 [==============================] - 0s 23ms/step\n",
      "1/1 [==============================] - 0s 22ms/step\n",
      "2/2 [==============================] - 0s 4ms/step\n",
      "Experiment 48 in progress\n",
      "1/1 [==============================] - 0s 23ms/step\n",
      "1/1 [==============================] - 0s 37ms/step\n",
      "2/2 [==============================] - 0s 5ms/step\n",
      "Experiment 49 in progress\n",
      "1/1 [==============================] - 0s 24ms/step\n",
      "1/1 [==============================] - 0s 24ms/step\n",
      "2/2 [==============================] - 0s 3ms/step\n",
      "Experiment 50 in progress\n",
      "1/1 [==============================] - 0s 24ms/step\n",
      "1/1 [==============================] - 0s 21ms/step\n",
      "2/2 [==============================] - 0s 4ms/step\n",
      "1/1 [==============================] - 0s 21ms/step\n",
      "1/1 [==============================] - 0s 265ms/step\n",
      "(46, 3, 20)\n",
      "Total time for 50 experiments 744.6178889274597\n"
     ]
    }
   ],
   "source": [
    "train_acc = np.zeros(Num_Exp)\n",
    "test_acc = np.zeros(Num_Exp)\n",
    "Step_RMSE = np.zeros([Num_Exp, n_steps_out])\n",
    "\n",
    "\n",
    "\n",
    "model = Sequential()\n",
    "model.add(LSTM(300, activation='relu', input_shape=(n_steps_in, n_features)))\n",
    "model.add(RepeatVector(n_steps_out))\n",
    "model.add(LSTM(300, activation='relu', return_sequences=True))\n",
    "model.add(TimeDistributed(Dense(n_features)))\n",
    "model.compile(optimizer='adam', loss='mse')\n",
    "model.summary()\n",
    "Best_RMSE = 1000  # Assigning a large number\n",
    "\n",
    "start_time = time.time()\n",
    "for run in range(Num_Exp):\n",
    "    print(\"Experiment\", run + 1, \"in progress\")\n",
    "    # fit model\n",
    "    model.fit(x_train, y_train, epochs=Epochs, batch_size=64, verbose=0, shuffle=False)\n",
    "    y_predicttrain = model.predict(x_train)\n",
    "    y_predicttest = model.predict(x_test)\n",
    "    y_predict = model.predict(x)\n",
    "    train_acc[run] = rmse(y_predicttrain, y_train)\n",
    "    test_acc[run] = rmse(y_predicttest, y_test)\n",
    "    if test_acc[run] < Best_RMSE:\n",
    "        Best_RMSE = test_acc[run]\n",
    "        Best_Predict_Test = y_predicttest\n",
    "        Best_Predict = y_predict\n",
    "    for j in range(n_steps_out):\n",
    "        Step_RMSE[run][j] = rmse(y_predicttest[:, j], y_test[:, j])\n",
    "#print('hh',Best_Predict)\n",
    "y = x[[-5,-4,-3, -2, -1], :]\n",
    "y = y.reshape((y.shape[0], y.shape[1], n_features))\n",
    "y1_predict=model.predict(y)\n",
    "y2_predict=model.predict(y1_predict)\n",
    "Best_Predict=np.row_stack((Best_Predict,y1_predict,y2_predict))\n",
    "print(Best_Predict.shape)\n",
    "\n",
    "print(\"Total time for\", Num_Exp, \"experiments\", time.time() - start_time)"
   ]
  },
  {
   "cell_type": "code",
   "execution_count": 14,
   "id": "f6401516",
   "metadata": {},
   "outputs": [
    {
     "data": {
      "text/plain": [
       "array([2.8228996 , 3.7842758 , 4.54978   , 4.925309  , 4.891593  ,\n",
       "       4.7375298 , 3.2700038 , 3.5078115 , 3.6930528 , 2.9073634 ,\n",
       "       2.1964636 , 3.3277597 , 3.557268  , 4.0944223 , 4.19708   ,\n",
       "       2.6434407 , 3.6211953 , 3.8765018 , 4.17966   , 5.2707043 ,\n",
       "       5.9924765 , 6.3918295 , 5.8953075 , 2.5988884 , 3.3351974 ,\n",
       "       3.9234977 , 3.5246677 , 3.0294397 , 2.2171962 , 3.8335655 ,\n",
       "       4.039049  , 3.3087792 , 3.9457755 , 3.408879  , 3.5326    ,\n",
       "       4.2169943 , 2.258063  , 3.4030955 , 2.748075  , 3.156876  ,\n",
       "       3.77882   , 0.17460501, 1.9698915 , 0.5150583 , 1.8113594 ,\n",
       "       1.5200684 ], dtype=float32)"
      ]
     },
     "execution_count": 14,
     "metadata": {},
     "output_type": "execute_result"
    }
   ],
   "source": [
    "Best_Predict[:,0,0]"
   ]
  },
  {
   "cell_type": "code",
   "execution_count": 15,
   "id": "a958c65a",
   "metadata": {},
   "outputs": [],
   "source": [
    "Best_Predict  = Best_Predict[:,0,0]\n",
    "#np.row_stack((Best_Predict[:-5,0],Best_Predict[-5,:]))\n",
    "\n",
    "Best_Predict = Yscaler.inverse_transform(Best_Predict.reshape(-1,1))  "
   ]
  },
  {
   "cell_type": "code",
   "execution_count": 16,
   "id": "ffe57565",
   "metadata": {},
   "outputs": [
    {
     "data": {
      "text/plain": [
       "1980    0.648229\n",
       "1981    0.569673\n",
       "1982    0.484299\n",
       "1983    0.664119\n",
       "1984    0.779035\n",
       "1985    0.733192\n",
       "1986    0.730059\n",
       "1987    0.648857\n",
       "1988    0.859287\n",
       "1989    0.877663\n",
       "1990    1.000000\n",
       "1991    0.988369\n",
       "1992    0.696168\n",
       "1993    0.431393\n",
       "1994    0.739960\n",
       "1995    0.661535\n",
       "1996    0.595242\n",
       "1997    0.683908\n",
       "1998    0.705358\n",
       "1999    0.693190\n",
       "2000    0.786064\n",
       "2001    0.674935\n",
       "2002    0.502328\n",
       "2003    0.456428\n",
       "2004    0.628911\n",
       "2005    0.587039\n",
       "2006    0.869279\n",
       "2007    0.793276\n",
       "2008    0.608428\n",
       "2009    0.000000\n",
       "2010    0.903281\n",
       "2011    0.878469\n",
       "2012    0.559663\n",
       "2013    0.560212\n",
       "2014    0.723376\n",
       "2015    0.656593\n",
       "2016    0.724529\n",
       "2017    0.765684\n",
       "2018    0.619961\n",
       "2019    0.616741\n",
       "Freq: A-DEC, Name: GDP, dtype: float64"
      ]
     },
     "execution_count": 16,
     "metadata": {},
     "output_type": "execute_result"
    }
   ],
   "source": [
    "df.iloc[:,0]"
   ]
  },
  {
   "cell_type": "code",
   "execution_count": 17,
   "id": "ef407191",
   "metadata": {},
   "outputs": [
    {
     "data": {
      "text/plain": [
       "array([[ 2.5186188e+01],\n",
       "       [ 3.5703651e+01],\n",
       "       [ 4.4078274e+01],\n",
       "       [ 4.8186565e+01],\n",
       "       [ 4.7817711e+01],\n",
       "       [ 4.6132259e+01],\n",
       "       [ 3.0077511e+01],\n",
       "       [ 3.2679131e+01],\n",
       "       [ 3.4705669e+01],\n",
       "       [ 2.6110222e+01],\n",
       "       [ 1.8332973e+01],\n",
       "       [ 3.0709360e+01],\n",
       "       [ 3.3220181e+01],\n",
       "       [ 3.9096657e+01],\n",
       "       [ 4.0219730e+01],\n",
       "       [ 2.3222906e+01],\n",
       "       [ 3.3919548e+01],\n",
       "       [ 3.6712605e+01],\n",
       "       [ 4.0029156e+01],\n",
       "       [ 5.1965191e+01],\n",
       "       [ 5.9861385e+01],\n",
       "       [ 6.4230309e+01],\n",
       "       [ 5.8798355e+01],\n",
       "       [ 2.2735502e+01],\n",
       "       [ 3.0790730e+01],\n",
       "       [ 3.7226738e+01],\n",
       "       [ 3.2863537e+01],\n",
       "       [ 2.7445738e+01],\n",
       "       [ 1.8559788e+01],\n",
       "       [ 3.6242878e+01],\n",
       "       [ 3.8490871e+01],\n",
       "       [ 3.0501715e+01],\n",
       "       [ 3.7470459e+01],\n",
       "       [ 3.1596807e+01],\n",
       "       [ 3.2950314e+01],\n",
       "       [ 4.0437592e+01],\n",
       "       [ 1.9006872e+01],\n",
       "       [ 3.1533535e+01],\n",
       "       [ 2.4367605e+01],\n",
       "       [ 2.8839893e+01],\n",
       "       [ 3.5643963e+01],\n",
       "       [-3.7861741e+00],\n",
       "       [ 1.5854273e+01],\n",
       "       [-6.1613090e-02],\n",
       "       [ 1.4119930e+01],\n",
       "       [ 1.0933205e+01]], dtype=float32)"
      ]
     },
     "execution_count": 17,
     "metadata": {},
     "output_type": "execute_result"
    }
   ],
   "source": [
    "Best_Predict"
   ]
  },
  {
   "cell_type": "code",
   "execution_count": 18,
   "id": "f72f206a",
   "metadata": {},
   "outputs": [
    {
     "name": "stdout",
     "output_type": "stream",
     "text": [
      "test 0.5801899990849698 train 0.002092059173423438\n"
     ]
    }
   ],
   "source": [
    "print('test',test_acc.mean(),'train',train_acc.mean())"
   ]
  },
  {
   "cell_type": "code",
   "execution_count": null,
   "id": "8640bef1",
   "metadata": {},
   "outputs": [],
   "source": []
  }
 ],
 "metadata": {
  "kernelspec": {
   "display_name": "Python 3 (ipykernel)",
   "language": "python",
   "name": "python3"
  },
  "language_info": {
   "codemirror_mode": {
    "name": "ipython",
    "version": 3
   },
   "file_extension": ".py",
   "mimetype": "text/x-python",
   "name": "python",
   "nbconvert_exporter": "python",
   "pygments_lexer": "ipython3",
   "version": "3.9.12"
  }
 },
 "nbformat": 4,
 "nbformat_minor": 5
}
