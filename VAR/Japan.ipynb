{
 "cells": [
  {
   "cell_type": "code",
   "execution_count": 1,
   "id": "36446003",
   "metadata": {},
   "outputs": [],
   "source": [
    "import statsmodels.api as sm\n",
    "import statsmodels.stats.diagnostic\n",
    "\n",
    "import matplotlib.pyplot as plt\n",
    "\n",
    "import numpy as np\n",
    "import pandas as pd\n",
    "\n",
    "from statsmodels.tsa.api import VAR\n",
    "\n",
    "def rmse(pred, actual):\n",
    "    return np.sqrt(((pred - actual) ** 2).mean())\n",
    "\n",
    "\n",
    "import pandas as pd\n",
    "import numpy as np\n",
    "import matplotlib.pyplot as plt\n",
    "%matplotlib inline\n",
    "\n",
    "# Import Statsmodels\n",
    "from statsmodels.tsa.api import VAR\n",
    "from statsmodels.tsa.stattools import adfuller\n",
    "from statsmodels.tools.eval_measures import rmse, aic\n"
   ]
  },
  {
   "cell_type": "code",
   "execution_count": 4,
   "id": "d5ec417b",
   "metadata": {},
   "outputs": [
    {
     "data": {
      "text/html": [
       "<div>\n",
       "<style scoped>\n",
       "    .dataframe tbody tr th:only-of-type {\n",
       "        vertical-align: middle;\n",
       "    }\n",
       "\n",
       "    .dataframe tbody tr th {\n",
       "        vertical-align: top;\n",
       "    }\n",
       "\n",
       "    .dataframe thead th {\n",
       "        text-align: right;\n",
       "    }\n",
       "</style>\n",
       "<table border=\"1\" class=\"dataframe\">\n",
       "  <thead>\n",
       "    <tr style=\"text-align: right;\">\n",
       "      <th></th>\n",
       "      <th>countrycode</th>\n",
       "      <th>country</th>\n",
       "      <th>currency_unit</th>\n",
       "      <th>year</th>\n",
       "      <th>GDP</th>\n",
       "      <th>net population growth</th>\n",
       "      <th>CPI</th>\n",
       "      <th>employment rate</th>\n",
       "      <th>labsh</th>\n",
       "      <th>xr</th>\n",
       "      <th>...</th>\n",
       "      <th>csh_m</th>\n",
       "      <th>csh_r</th>\n",
       "      <th>pl_c</th>\n",
       "      <th>pl_i</th>\n",
       "      <th>pl_g</th>\n",
       "      <th>pl_x</th>\n",
       "      <th>pl_m</th>\n",
       "      <th>pl_n</th>\n",
       "      <th>pl_k</th>\n",
       "      <th>GDP.1</th>\n",
       "    </tr>\n",
       "  </thead>\n",
       "  <tbody>\n",
       "    <tr>\n",
       "      <th>0</th>\n",
       "      <td>JPN</td>\n",
       "      <td>Japan</td>\n",
       "      <td>Yen</td>\n",
       "      <td>1979</td>\n",
       "      <td>NaN</td>\n",
       "      <td>116.867400</td>\n",
       "      <td>NaN</td>\n",
       "      <td>0.505256</td>\n",
       "      <td>0.620528</td>\n",
       "      <td>219.1400</td>\n",
       "      <td>...</td>\n",
       "      <td>-0.136450</td>\n",
       "      <td>-0.002134</td>\n",
       "      <td>0.482394</td>\n",
       "      <td>0.375527</td>\n",
       "      <td>0.413489</td>\n",
       "      <td>0.374152</td>\n",
       "      <td>0.335963</td>\n",
       "      <td>0.336669</td>\n",
       "      <td>1.206380</td>\n",
       "      <td>NaN</td>\n",
       "    </tr>\n",
       "    <tr>\n",
       "      <th>1</th>\n",
       "      <td>JPN</td>\n",
       "      <td>Japan</td>\n",
       "      <td>Yen</td>\n",
       "      <td>1980</td>\n",
       "      <td>2.817592</td>\n",
       "      <td>0.008125</td>\n",
       "      <td>7.758333</td>\n",
       "      <td>-0.000985</td>\n",
       "      <td>0.000000</td>\n",
       "      <td>226.7408</td>\n",
       "      <td>...</td>\n",
       "      <td>-0.009820</td>\n",
       "      <td>-0.982586</td>\n",
       "      <td>0.019092</td>\n",
       "      <td>0.009485</td>\n",
       "      <td>0.001676</td>\n",
       "      <td>0.038754</td>\n",
       "      <td>0.214920</td>\n",
       "      <td>0.057992</td>\n",
       "      <td>-0.045856</td>\n",
       "      <td>2.817592</td>\n",
       "    </tr>\n",
       "    <tr>\n",
       "      <th>2</th>\n",
       "      <td>JPN</td>\n",
       "      <td>Japan</td>\n",
       "      <td>Yen</td>\n",
       "      <td>1981</td>\n",
       "      <td>4.176879</td>\n",
       "      <td>0.007774</td>\n",
       "      <td>4.941667</td>\n",
       "      <td>0.000419</td>\n",
       "      <td>-0.002118</td>\n",
       "      <td>220.5358</td>\n",
       "      <td>...</td>\n",
       "      <td>-0.008068</td>\n",
       "      <td>26.911396</td>\n",
       "      <td>0.096173</td>\n",
       "      <td>0.106764</td>\n",
       "      <td>0.099053</td>\n",
       "      <td>0.074735</td>\n",
       "      <td>0.030941</td>\n",
       "      <td>0.090274</td>\n",
       "      <td>-0.020976</td>\n",
       "      <td>4.176879</td>\n",
       "    </tr>\n",
       "    <tr>\n",
       "      <th>3</th>\n",
       "      <td>JPN</td>\n",
       "      <td>Japan</td>\n",
       "      <td>Yen</td>\n",
       "      <td>1982</td>\n",
       "      <td>3.376506</td>\n",
       "      <td>0.007348</td>\n",
       "      <td>2.750000</td>\n",
       "      <td>0.001303</td>\n",
       "      <td>0.004039</td>\n",
       "      <td>249.0767</td>\n",
       "      <td>...</td>\n",
       "      <td>-0.041710</td>\n",
       "      <td>-0.421139</td>\n",
       "      <td>-0.069843</td>\n",
       "      <td>-0.051039</td>\n",
       "      <td>-0.045599</td>\n",
       "      <td>-0.065368</td>\n",
       "      <td>-0.030639</td>\n",
       "      <td>-0.006193</td>\n",
       "      <td>-0.070059</td>\n",
       "      <td>3.376506</td>\n",
       "    </tr>\n",
       "    <tr>\n",
       "      <th>4</th>\n",
       "      <td>JPN</td>\n",
       "      <td>Japan</td>\n",
       "      <td>Yen</td>\n",
       "      <td>1983</td>\n",
       "      <td>3.060805</td>\n",
       "      <td>0.006875</td>\n",
       "      <td>1.900000</td>\n",
       "      <td>0.008201</td>\n",
       "      <td>0.003591</td>\n",
       "      <td>237.5117</td>\n",
       "      <td>...</td>\n",
       "      <td>-0.040567</td>\n",
       "      <td>0.948825</td>\n",
       "      <td>0.091115</td>\n",
       "      <td>0.160418</td>\n",
       "      <td>0.123268</td>\n",
       "      <td>0.021363</td>\n",
       "      <td>0.019456</td>\n",
       "      <td>0.165765</td>\n",
       "      <td>0.022857</td>\n",
       "      <td>3.060805</td>\n",
       "    </tr>\n",
       "  </tbody>\n",
       "</table>\n",
       "<p>5 rows × 25 columns</p>\n",
       "</div>"
      ],
      "text/plain": [
       "  countrycode country currency_unit  year       GDP  net population growth  \\\n",
       "0         JPN   Japan           Yen  1979       NaN             116.867400   \n",
       "1         JPN   Japan           Yen  1980  2.817592               0.008125   \n",
       "2         JPN   Japan           Yen  1981  4.176879               0.007774   \n",
       "3         JPN   Japan           Yen  1982  3.376506               0.007348   \n",
       "4         JPN   Japan           Yen  1983  3.060805               0.006875   \n",
       "\n",
       "        CPI  employment rate     labsh        xr  ...     csh_m      csh_r  \\\n",
       "0       NaN         0.505256  0.620528  219.1400  ... -0.136450  -0.002134   \n",
       "1  7.758333        -0.000985  0.000000  226.7408  ... -0.009820  -0.982586   \n",
       "2  4.941667         0.000419 -0.002118  220.5358  ... -0.008068  26.911396   \n",
       "3  2.750000         0.001303  0.004039  249.0767  ... -0.041710  -0.421139   \n",
       "4  1.900000         0.008201  0.003591  237.5117  ... -0.040567   0.948825   \n",
       "\n",
       "       pl_c      pl_i      pl_g      pl_x      pl_m      pl_n      pl_k  \\\n",
       "0  0.482394  0.375527  0.413489  0.374152  0.335963  0.336669  1.206380   \n",
       "1  0.019092  0.009485  0.001676  0.038754  0.214920  0.057992 -0.045856   \n",
       "2  0.096173  0.106764  0.099053  0.074735  0.030941  0.090274 -0.020976   \n",
       "3 -0.069843 -0.051039 -0.045599 -0.065368 -0.030639 -0.006193 -0.070059   \n",
       "4  0.091115  0.160418  0.123268  0.021363  0.019456  0.165765  0.022857   \n",
       "\n",
       "      GDP.1  \n",
       "0       NaN  \n",
       "1  2.817592  \n",
       "2  4.176879  \n",
       "3  3.376506  \n",
       "4  3.060805  \n",
       "\n",
       "[5 rows x 25 columns]"
      ]
     },
     "execution_count": 4,
     "metadata": {},
     "output_type": "execute_result"
    }
   ],
   "source": [
    "# LOAD DATA\n",
    "\n",
    "data_path = \"../Year data P//\"\n",
    "\n",
    "df = pd.read_csv(data_path + 'Japan//Japan Data.csv')\n",
    "df.head()\n"
   ]
  },
  {
   "cell_type": "code",
   "execution_count": 6,
   "id": "906131fc",
   "metadata": {},
   "outputs": [
    {
     "ename": "KeyError",
     "evalue": "'YEAR'",
     "output_type": "error",
     "traceback": [
      "\u001b[0;31m---------------------------------------------------------------------------\u001b[0m",
      "\u001b[0;31mKeyError\u001b[0m                                  Traceback (most recent call last)",
      "File \u001b[0;32m/Users/Shared/anaconda3/lib/python3.9/site-packages/pandas/core/indexes/base.py:3621\u001b[0m, in \u001b[0;36mIndex.get_loc\u001b[0;34m(self, key, method, tolerance)\u001b[0m\n\u001b[1;32m   3620\u001b[0m \u001b[38;5;28;01mtry\u001b[39;00m:\n\u001b[0;32m-> 3621\u001b[0m     \u001b[38;5;28;01mreturn\u001b[39;00m \u001b[38;5;28;43mself\u001b[39;49m\u001b[38;5;241;43m.\u001b[39;49m\u001b[43m_engine\u001b[49m\u001b[38;5;241;43m.\u001b[39;49m\u001b[43mget_loc\u001b[49m\u001b[43m(\u001b[49m\u001b[43mcasted_key\u001b[49m\u001b[43m)\u001b[49m\n\u001b[1;32m   3622\u001b[0m \u001b[38;5;28;01mexcept\u001b[39;00m \u001b[38;5;167;01mKeyError\u001b[39;00m \u001b[38;5;28;01mas\u001b[39;00m err:\n",
      "File \u001b[0;32m/Users/Shared/anaconda3/lib/python3.9/site-packages/pandas/_libs/index.pyx:136\u001b[0m, in \u001b[0;36mpandas._libs.index.IndexEngine.get_loc\u001b[0;34m()\u001b[0m\n",
      "File \u001b[0;32m/Users/Shared/anaconda3/lib/python3.9/site-packages/pandas/_libs/index.pyx:163\u001b[0m, in \u001b[0;36mpandas._libs.index.IndexEngine.get_loc\u001b[0;34m()\u001b[0m\n",
      "File \u001b[0;32mpandas/_libs/hashtable_class_helper.pxi:5198\u001b[0m, in \u001b[0;36mpandas._libs.hashtable.PyObjectHashTable.get_item\u001b[0;34m()\u001b[0m\n",
      "File \u001b[0;32mpandas/_libs/hashtable_class_helper.pxi:5206\u001b[0m, in \u001b[0;36mpandas._libs.hashtable.PyObjectHashTable.get_item\u001b[0;34m()\u001b[0m\n",
      "\u001b[0;31mKeyError\u001b[0m: 'YEAR'",
      "\nThe above exception was the direct cause of the following exception:\n",
      "\u001b[0;31mKeyError\u001b[0m                                  Traceback (most recent call last)",
      "Input \u001b[0;32mIn [6]\u001b[0m, in \u001b[0;36m<cell line: 1>\u001b[0;34m()\u001b[0m\n\u001b[0;32m----> 1\u001b[0m df \u001b[38;5;241m=\u001b[39m df\u001b[38;5;241m.\u001b[39mloc[\u001b[43mdf\u001b[49m\u001b[43m[\u001b[49m\u001b[38;5;124;43m'\u001b[39;49m\u001b[38;5;124;43mYEAR\u001b[39;49m\u001b[38;5;124;43m'\u001b[39;49m\u001b[43m]\u001b[49m \u001b[38;5;241m>\u001b[39m\u001b[38;5;241m=\u001b[39m \u001b[38;5;241m1980\u001b[39m]\n\u001b[1;32m      2\u001b[0m df \u001b[38;5;241m=\u001b[39m df\u001b[38;5;241m.\u001b[39mdrop([\u001b[38;5;124m'\u001b[39m\u001b[38;5;124mYEAR\u001b[39m\u001b[38;5;124m'\u001b[39m],axis \u001b[38;5;241m=\u001b[39m \u001b[38;5;241m1\u001b[39m)\n\u001b[1;32m      3\u001b[0m year \u001b[38;5;241m=\u001b[39m pd\u001b[38;5;241m.\u001b[39mperiod_range(\u001b[38;5;124m'\u001b[39m\u001b[38;5;124m1980\u001b[39m\u001b[38;5;124m'\u001b[39m, \u001b[38;5;124m'\u001b[39m\u001b[38;5;124m2021\u001b[39m\u001b[38;5;124m'\u001b[39m, freq\u001b[38;5;241m=\u001b[39m\u001b[38;5;124m'\u001b[39m\u001b[38;5;124mY\u001b[39m\u001b[38;5;124m'\u001b[39m)\n",
      "File \u001b[0;32m/Users/Shared/anaconda3/lib/python3.9/site-packages/pandas/core/frame.py:3505\u001b[0m, in \u001b[0;36mDataFrame.__getitem__\u001b[0;34m(self, key)\u001b[0m\n\u001b[1;32m   3503\u001b[0m \u001b[38;5;28;01mif\u001b[39;00m \u001b[38;5;28mself\u001b[39m\u001b[38;5;241m.\u001b[39mcolumns\u001b[38;5;241m.\u001b[39mnlevels \u001b[38;5;241m>\u001b[39m \u001b[38;5;241m1\u001b[39m:\n\u001b[1;32m   3504\u001b[0m     \u001b[38;5;28;01mreturn\u001b[39;00m \u001b[38;5;28mself\u001b[39m\u001b[38;5;241m.\u001b[39m_getitem_multilevel(key)\n\u001b[0;32m-> 3505\u001b[0m indexer \u001b[38;5;241m=\u001b[39m \u001b[38;5;28;43mself\u001b[39;49m\u001b[38;5;241;43m.\u001b[39;49m\u001b[43mcolumns\u001b[49m\u001b[38;5;241;43m.\u001b[39;49m\u001b[43mget_loc\u001b[49m\u001b[43m(\u001b[49m\u001b[43mkey\u001b[49m\u001b[43m)\u001b[49m\n\u001b[1;32m   3506\u001b[0m \u001b[38;5;28;01mif\u001b[39;00m is_integer(indexer):\n\u001b[1;32m   3507\u001b[0m     indexer \u001b[38;5;241m=\u001b[39m [indexer]\n",
      "File \u001b[0;32m/Users/Shared/anaconda3/lib/python3.9/site-packages/pandas/core/indexes/base.py:3623\u001b[0m, in \u001b[0;36mIndex.get_loc\u001b[0;34m(self, key, method, tolerance)\u001b[0m\n\u001b[1;32m   3621\u001b[0m     \u001b[38;5;28;01mreturn\u001b[39;00m \u001b[38;5;28mself\u001b[39m\u001b[38;5;241m.\u001b[39m_engine\u001b[38;5;241m.\u001b[39mget_loc(casted_key)\n\u001b[1;32m   3622\u001b[0m \u001b[38;5;28;01mexcept\u001b[39;00m \u001b[38;5;167;01mKeyError\u001b[39;00m \u001b[38;5;28;01mas\u001b[39;00m err:\n\u001b[0;32m-> 3623\u001b[0m     \u001b[38;5;28;01mraise\u001b[39;00m \u001b[38;5;167;01mKeyError\u001b[39;00m(key) \u001b[38;5;28;01mfrom\u001b[39;00m \u001b[38;5;21;01merr\u001b[39;00m\n\u001b[1;32m   3624\u001b[0m \u001b[38;5;28;01mexcept\u001b[39;00m \u001b[38;5;167;01mTypeError\u001b[39;00m:\n\u001b[1;32m   3625\u001b[0m     \u001b[38;5;66;03m# If we have a listlike key, _check_indexing_error will raise\u001b[39;00m\n\u001b[1;32m   3626\u001b[0m     \u001b[38;5;66;03m#  InvalidIndexError. Otherwise we fall through and re-raise\u001b[39;00m\n\u001b[1;32m   3627\u001b[0m     \u001b[38;5;66;03m#  the TypeError.\u001b[39;00m\n\u001b[1;32m   3628\u001b[0m     \u001b[38;5;28mself\u001b[39m\u001b[38;5;241m.\u001b[39m_check_indexing_error(key)\n",
      "\u001b[0;31mKeyError\u001b[0m: 'YEAR'"
     ]
    }
   ],
   "source": [
    "df = df.loc[df['YEAR'] >= 1980]\n",
    "df = df.drop(['YEAR'],axis = 1)\n",
    "year = pd.period_range('1980', '2021', freq='Y')\n",
    "df.index = year\n",
    "\n",
    "df = df.iloc[:,[0,1,2,3,4,5,6,8,0]]"
   ]
  },
  {
   "cell_type": "code",
   "execution_count": null,
   "id": "4f4822c9",
   "metadata": {},
   "outputs": [],
   "source": [
    "df.tail()"
   ]
  },
  {
   "cell_type": "code",
   "execution_count": null,
   "id": "bfeb123a",
   "metadata": {},
   "outputs": [],
   "source": [
    "from sklearn.preprocessing import MinMaxScaler\n",
    "Xscaler =MinMaxScaler()\n",
    "df.iloc[:,0:-1]=Xscaler.fit_transform(df.values[:,0:-1])"
   ]
  },
  {
   "cell_type": "code",
   "execution_count": null,
   "id": "7e19fdc7",
   "metadata": {},
   "outputs": [],
   "source": [
    "df_train = df['1980':'2009']\n",
    "df_test = df['2010':'2019']"
   ]
  },
  {
   "cell_type": "code",
   "execution_count": null,
   "id": "2d01fdca",
   "metadata": {},
   "outputs": [],
   "source": [
    "for i in range(0,8):\n",
    "    adfResult = sm.tsa.stattools.adfuller(df.iloc[:,i])\n",
    "    if adfResult[1]<0.05:\n",
    "        print(i)\n",
    "        print(df.columns[i])\n",
    "        print(\"stable\")\n",
    "    else:\n",
    "        print(i)\n",
    "        print(df.columns[i])\n",
    "        print(\"UNstable\")"
   ]
  },
  {
   "cell_type": "code",
   "execution_count": null,
   "id": "28754469",
   "metadata": {},
   "outputs": [],
   "source": [
    "df.iloc[:,0] = df.iloc[:,0].diff(1)\n",
    "df.iloc[:,2] = df.iloc[:,2].diff(1)\n",
    "df.iloc[:,3] = df.iloc[:,3].diff(1)\n",
    "df.iloc[:,6] = df.iloc[:,6].diff(1)\n",
    "df.iloc[:,7] = df.iloc[:,7].diff(1)\n",
    "\n",
    "df_train = df['1980':'2009']\n",
    "df_test = df['2010':'2019']"
   ]
  },
  {
   "cell_type": "code",
   "execution_count": null,
   "id": "0a5722dd",
   "metadata": {},
   "outputs": [],
   "source": [
    "for i in range(0,8):\n",
    "    adfResult = sm.tsa.stattools.adfuller(df.iloc[1:,i])\n",
    "    if adfResult[1]<0.05:\n",
    "        print(i)\n",
    "        print(df.columns[i])\n",
    "        print(\"stable\")\n",
    "    else:\n",
    "        print(i)\n",
    "        print(df.columns[i])\n",
    "        print(\"UNstable\")\n",
    "    "
   ]
  },
  {
   "cell_type": "code",
   "execution_count": null,
   "id": "149aee20",
   "metadata": {},
   "outputs": [],
   "source": [
    "for i in range(0,8):\n",
    "    result = sm.tsa.stattools.coint(df.iloc[1:,-1],df.iloc[1:,i])\n",
    "    if result[1]<0.05:\n",
    "        print(i)\n",
    "        print(df.columns[i])\n",
    "        print(\"coint\")\n",
    "    else:\n",
    "        print(i)\n",
    "        print(df.columns[i])\n",
    "        print(\"not coint\")"
   ]
  },
  {
   "cell_type": "code",
   "execution_count": null,
   "id": "4b0a3662",
   "metadata": {},
   "outputs": [],
   "source": [
    "df_train = df.iloc[1:,[0,1,2,3,4]]['1981':'2009']\n",
    "df_test = df.iloc[1:,[0,1,2,3,4]]['2010':'2019']"
   ]
  },
  {
   "cell_type": "code",
   "execution_count": null,
   "id": "41bc7788",
   "metadata": {},
   "outputs": [],
   "source": [
    "### FIND BEST VAR ORDER with AIC ###\n",
    "AIC = {}\n",
    "best_aic, best_order = np.inf, 0\n",
    "lagsToTest = 4\n",
    "for i in range(1, lagsToTest):\n",
    "    model = VAR(df_train.values)\n",
    "    model_result = model.fit(i)\n",
    "    AIC[i] = model_result.aic\n",
    "\n",
    "    if AIC[i] < best_aic:\n",
    "        best_aic = AIC[i]\n",
    "        best_order = i\n",
    "\n",
    "print('BEST ORDER:', best_order, 'BEST AIC:', best_aic)"
   ]
  },
  {
   "cell_type": "code",
   "execution_count": null,
   "id": "b3649cbd",
   "metadata": {},
   "outputs": [],
   "source": [
    "### FIT FINAL VAR WITH LAG CORRESPONTING TO THE BEST AIC ###\n",
    "var = VAR(df_train)\n",
    "var_result = var.fit(maxlags=best_order)\n",
    "print(\"var_result.aic: \", var_result.aic)"
   ]
  },
  {
   "cell_type": "code",
   "execution_count": 3,
   "id": "d51310d8",
   "metadata": {},
   "outputs": [
    {
     "ename": "NameError",
     "evalue": "name 'df_test' is not defined",
     "output_type": "error",
     "traceback": [
      "\u001b[0;31m---------------------------------------------------------------------------\u001b[0m",
      "\u001b[0;31mNameError\u001b[0m                                 Traceback (most recent call last)",
      "Input \u001b[0;32mIn [3]\u001b[0m, in \u001b[0;36m<cell line: 1>\u001b[0;34m()\u001b[0m\n\u001b[0;32m----> 1\u001b[0m \u001b[38;5;28mprint\u001b[39m(\u001b[38;5;28mlen\u001b[39m(\u001b[43mdf_test\u001b[49m\u001b[38;5;241m.\u001b[39mvalues[\u001b[38;5;241m-\u001b[39mbest_order:]))\n\u001b[1;32m      3\u001b[0m forecast_input \u001b[38;5;241m=\u001b[39m df_test\u001b[38;5;241m.\u001b[39mvalues[\u001b[38;5;241m-\u001b[39mbest_order:]\n\u001b[1;32m      5\u001b[0m \u001b[38;5;66;03m# Forecast\u001b[39;00m\n",
      "\u001b[0;31mNameError\u001b[0m: name 'df_test' is not defined"
     ]
    }
   ],
   "source": [
    "print(len(df_test.values[-best_order:]))\n",
    "\n",
    "forecast_input = df_test.values[-best_order:]\n",
    "\n",
    "# Forecast\n",
    "fc = var_result.forecast(y = forecast_input, steps=5)\n",
    "df_forecast = pd.DataFrame(fc, index=pd.period_range(start = '2020',end = '2024',freq = 'Y'), columns=df_test.columns)\n",
    "#print(df_forecast)"
   ]
  },
  {
   "cell_type": "code",
   "execution_count": 29,
   "id": "33454a51",
   "metadata": {},
   "outputs": [
    {
     "data": {
      "text/plain": [
       "<AxesSubplot:>"
      ]
     },
     "execution_count": 29,
     "metadata": {},
     "output_type": "execute_result"
    },
    {
     "data": {
      "image/png": "[encoded data removed]",
      "text/plain": [
       "<Figure size 432x288 with 1 Axes>"
      ]
     },
     "metadata": {
      "needs_background": "light"
     },
     "output_type": "display_data"
    }
   ],
   "source": [
    "plt.figure()\n",
    "df.iloc[1:,0].plot()\n",
    "df_forecast.iloc[:,0].plot()"
   ]
  },
  {
   "cell_type": "code",
   "execution_count": 31,
   "id": "bb658ade",
   "metadata": {},
   "outputs": [
    {
     "data": {
      "text/plain": [
       "0.36263425551876977"
      ]
     },
     "execution_count": 31,
     "metadata": {},
     "output_type": "execute_result"
    }
   ],
   "source": [
    "predict_Test = var_result.forecast(y = df_train.values, steps=10)\n",
    "rmse(predict_Test[:,0],df_test.iloc[:,0].values)"
   ]
  },
  {
   "cell_type": "code",
   "execution_count": 32,
   "id": "0f032ac1",
   "metadata": {},
   "outputs": [
    {
     "name": "stdout",
     "output_type": "stream",
     "text": [
      "0.14024101201548403\n"
     ]
    },
    {
     "data": {
      "text/plain": [
       "<AxesSubplot:>"
      ]
     },
     "execution_count": 32,
     "metadata": {},
     "output_type": "execute_result"
    },
    {
     "data": {
      "image/png": "[encoded data removed]",
      "text/plain": [
       "<Figure size 432x288 with 1 Axes>"
      ]
     },
     "metadata": {
      "needs_background": "light"
     },
     "output_type": "display_data"
    }
   ],
   "source": [
    "fitted_value = np.zeros((28,df_train.shape[1]))\n",
    "for i in range(0,28,4):\n",
    "    a = var_result.forecast(y = df_train.iloc[i:i+4,:].values, steps=4)\n",
    "    fitted_value[i:i+4,:] = a\n",
    "\n",
    "fitted_value = pd.DataFrame(fitted_value, index=pd.period_range(start = '1985',end = '2012',freq = 'Y'), columns=df_train.columns)\n",
    "#print(df_forecast)\n",
    "\n",
    "print(rmse(fitted_value.iloc[:-3,0],df_train.iloc[4:,0].values))\n",
    "plt.figure()\n",
    "df_train.iloc[:,0].plot()\n",
    "fitted_value.iloc[:,0].plot()"
   ]
  }
 ],
 "metadata": {
  "kernelspec": {
   "display_name": "Python 3 (ipykernel)",
   "language": "python",
   "name": "python3"
  },
  "language_info": {
   "codemirror_mode": {
    "name": "ipython",
    "version": 3
   },
   "file_extension": ".py",
   "mimetype": "text/x-python",
   "name": "python",
   "nbconvert_exporter": "python",
   "pygments_lexer": "ipython3",
   "version": "3.9.12"
  }
 },
 "nbformat": 4,
 "nbformat_minor": 5
}
