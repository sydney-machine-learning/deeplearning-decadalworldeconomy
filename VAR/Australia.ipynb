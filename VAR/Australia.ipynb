{
 "cells": [
  {
   "cell_type": "code",
   "execution_count": 4,
   "id": "4bd06896",
   "metadata": {},
   "outputs": [],
   "source": [
    "import statsmodels.api as sm\n",
    "import statsmodels.stats.diagnostic\n",
    "\n",
    "import matplotlib.pyplot as plt\n",
    "\n",
    "import numpy as np\n",
    "import pandas as pd\n",
    "\n",
    "from statsmodels.tsa.api import VAR\n",
    "\n",
    "def rmse(pred, actual):\n",
    "    return np.sqrt(((pred - actual) ** 2).mean())\n",
    "\n",
    "\n",
    "import pandas as pd\n",
    "import numpy as np\n",
    "import matplotlib.pyplot as plt\n",
    "%matplotlib inline\n",
    "\n",
    "# Import Statsmodels\n",
    "from statsmodels.tsa.api import VAR\n",
    "from statsmodels.tsa.stattools import adfuller\n",
    "from statsmodels.tools.eval_measures import rmse, aic\n"
   ]
  },
  {
   "cell_type": "code",
   "execution_count": 5,
   "id": "4eefca52",
   "metadata": {},
   "outputs": [],
   "source": [
    "# LOAD DATA\n",
    "\n",
    "data_path = \"../Year data P//\"\n",
    "\n",
    "\n",
    "df = pd.read_csv(data_path + 'Australia//Australia data3.csv')\n",
    "df = df.loc[df['year'] >= 1980]\n",
    "df = df.drop(['countrycode','country','currency_unit','year'],axis = 1)\n",
    "year = pd.period_range('1980', '2019', freq='Y')\n",
    "df.index = year\n"
   ]
  },
  {
   "cell_type": "code",
   "execution_count": 6,
   "id": "3ba6ded0",
   "metadata": {},
   "outputs": [
    {
     "data": {
      "text/html": [
       "<div>\n",
       "<style scoped>\n",
       "    .dataframe tbody tr th:only-of-type {\n",
       "        vertical-align: middle;\n",
       "    }\n",
       "\n",
       "    .dataframe tbody tr th {\n",
       "        vertical-align: top;\n",
       "    }\n",
       "\n",
       "    .dataframe thead th {\n",
       "        text-align: right;\n",
       "    }\n",
       "</style>\n",
       "<table border=\"1\" class=\"dataframe\">\n",
       "  <thead>\n",
       "    <tr style=\"text-align: right;\">\n",
       "      <th></th>\n",
       "      <th>GDP</th>\n",
       "      <th>net population growth</th>\n",
       "      <th>CPI</th>\n",
       "      <th>employment rate</th>\n",
       "      <th>labsh</th>\n",
       "      <th>xr</th>\n",
       "      <th>pl_gdpo</th>\n",
       "      <th>csh_c</th>\n",
       "      <th>csh_i</th>\n",
       "      <th>csh_g</th>\n",
       "      <th>...</th>\n",
       "      <th>csh_m</th>\n",
       "      <th>csh_r</th>\n",
       "      <th>pl_c</th>\n",
       "      <th>pl_i</th>\n",
       "      <th>pl_g</th>\n",
       "      <th>pl_x</th>\n",
       "      <th>pl_m</th>\n",
       "      <th>pl_n</th>\n",
       "      <th>pl_k</th>\n",
       "      <th>GDP.1</th>\n",
       "    </tr>\n",
       "  </thead>\n",
       "  <tbody>\n",
       "    <tr>\n",
       "      <th>2015</th>\n",
       "      <td>2.286583</td>\n",
       "      <td>0.014243</td>\n",
       "      <td>1.508367</td>\n",
       "      <td>0.006344</td>\n",
       "      <td>0.013426</td>\n",
       "      <td>1.331090</td>\n",
       "      <td>-0.120854</td>\n",
       "      <td>0.043607</td>\n",
       "      <td>-0.080548</td>\n",
       "      <td>0.112269</td>\n",
       "      <td>...</td>\n",
       "      <td>-0.005382</td>\n",
       "      <td>-0.450512</td>\n",
       "      <td>-0.142073</td>\n",
       "      <td>-0.076549</td>\n",
       "      <td>-0.183507</td>\n",
       "      <td>-0.102930</td>\n",
       "      <td>-0.089396</td>\n",
       "      <td>-0.104003</td>\n",
       "      <td>-0.171759</td>\n",
       "      <td>2.286583</td>\n",
       "    </tr>\n",
       "    <tr>\n",
       "      <th>2016</th>\n",
       "      <td>2.707033</td>\n",
       "      <td>0.013798</td>\n",
       "      <td>1.276991</td>\n",
       "      <td>-0.000103</td>\n",
       "      <td>-0.033361</td>\n",
       "      <td>1.345214</td>\n",
       "      <td>-0.017795</td>\n",
       "      <td>-0.030156</td>\n",
       "      <td>-0.071559</td>\n",
       "      <td>-0.004074</td>\n",
       "      <td>...</td>\n",
       "      <td>-0.110539</td>\n",
       "      <td>-1.447050</td>\n",
       "      <td>-0.013508</td>\n",
       "      <td>0.003072</td>\n",
       "      <td>-0.016066</td>\n",
       "      <td>-0.013670</td>\n",
       "      <td>-0.004671</td>\n",
       "      <td>0.002245</td>\n",
       "      <td>0.088960</td>\n",
       "      <td>2.707033</td>\n",
       "    </tr>\n",
       "    <tr>\n",
       "      <th>2017</th>\n",
       "      <td>2.407000</td>\n",
       "      <td>0.013268</td>\n",
       "      <td>1.948647</td>\n",
       "      <td>0.007552</td>\n",
       "      <td>-0.007058</td>\n",
       "      <td>1.304758</td>\n",
       "      <td>0.038500</td>\n",
       "      <td>-0.025008</td>\n",
       "      <td>-0.030714</td>\n",
       "      <td>0.013261</td>\n",
       "      <td>...</td>\n",
       "      <td>0.069608</td>\n",
       "      <td>-0.508163</td>\n",
       "      <td>0.058873</td>\n",
       "      <td>0.092419</td>\n",
       "      <td>0.028951</td>\n",
       "      <td>0.012173</td>\n",
       "      <td>0.084494</td>\n",
       "      <td>0.140201</td>\n",
       "      <td>0.111690</td>\n",
       "      <td>2.407000</td>\n",
       "    </tr>\n",
       "    <tr>\n",
       "      <th>2018</th>\n",
       "      <td>2.822740</td>\n",
       "      <td>0.012753</td>\n",
       "      <td>1.911401</td>\n",
       "      <td>0.011071</td>\n",
       "      <td>-0.013990</td>\n",
       "      <td>1.338412</td>\n",
       "      <td>-0.015046</td>\n",
       "      <td>-0.027288</td>\n",
       "      <td>-0.075311</td>\n",
       "      <td>0.011036</td>\n",
       "      <td>...</td>\n",
       "      <td>-0.057765</td>\n",
       "      <td>3.699859</td>\n",
       "      <td>-0.007520</td>\n",
       "      <td>0.007343</td>\n",
       "      <td>-0.009032</td>\n",
       "      <td>0.030537</td>\n",
       "      <td>0.045068</td>\n",
       "      <td>0.004718</td>\n",
       "      <td>-0.005463</td>\n",
       "      <td>2.822740</td>\n",
       "    </tr>\n",
       "    <tr>\n",
       "      <th>2019</th>\n",
       "      <td>1.955424</td>\n",
       "      <td>0.012252</td>\n",
       "      <td>1.610768</td>\n",
       "      <td>0.006976</td>\n",
       "      <td>0.000000</td>\n",
       "      <td>1.438507</td>\n",
       "      <td>-0.057326</td>\n",
       "      <td>-0.033483</td>\n",
       "      <td>-0.054413</td>\n",
       "      <td>0.067472</td>\n",
       "      <td>...</td>\n",
       "      <td>-0.033014</td>\n",
       "      <td>-0.575282</td>\n",
       "      <td>-0.053170</td>\n",
       "      <td>-0.043538</td>\n",
       "      <td>-0.058831</td>\n",
       "      <td>-0.009819</td>\n",
       "      <td>-0.031006</td>\n",
       "      <td>-0.054919</td>\n",
       "      <td>-0.077074</td>\n",
       "      <td>1.955424</td>\n",
       "    </tr>\n",
       "  </tbody>\n",
       "</table>\n",
       "<p>5 rows × 21 columns</p>\n",
       "</div>"
      ],
      "text/plain": [
       "           GDP  net population growth       CPI  employment rate     labsh  \\\n",
       "2015  2.286583               0.014243  1.508367         0.006344  0.013426   \n",
       "2016  2.707033               0.013798  1.276991        -0.000103 -0.033361   \n",
       "2017  2.407000               0.013268  1.948647         0.007552 -0.007058   \n",
       "2018  2.822740               0.012753  1.911401         0.011071 -0.013990   \n",
       "2019  1.955424               0.012252  1.610768         0.006976  0.000000   \n",
       "\n",
       "            xr   pl_gdpo     csh_c     csh_i     csh_g  ...     csh_m  \\\n",
       "2015  1.331090 -0.120854  0.043607 -0.080548  0.112269  ... -0.005382   \n",
       "2016  1.345214 -0.017795 -0.030156 -0.071559 -0.004074  ... -0.110539   \n",
       "2017  1.304758  0.038500 -0.025008 -0.030714  0.013261  ...  0.069608   \n",
       "2018  1.338412 -0.015046 -0.027288 -0.075311  0.011036  ... -0.057765   \n",
       "2019  1.438507 -0.057326 -0.033483 -0.054413  0.067472  ... -0.033014   \n",
       "\n",
       "         csh_r      pl_c      pl_i      pl_g      pl_x      pl_m      pl_n  \\\n",
       "2015 -0.450512 -0.142073 -0.076549 -0.183507 -0.102930 -0.089396 -0.104003   \n",
       "2016 -1.447050 -0.013508  0.003072 -0.016066 -0.013670 -0.004671  0.002245   \n",
       "2017 -0.508163  0.058873  0.092419  0.028951  0.012173  0.084494  0.140201   \n",
       "2018  3.699859 -0.007520  0.007343 -0.009032  0.030537  0.045068  0.004718   \n",
       "2019 -0.575282 -0.053170 -0.043538 -0.058831 -0.009819 -0.031006 -0.054919   \n",
       "\n",
       "          pl_k     GDP.1  \n",
       "2015 -0.171759  2.286583  \n",
       "2016  0.088960  2.707033  \n",
       "2017  0.111690  2.407000  \n",
       "2018 -0.005463  2.822740  \n",
       "2019 -0.077074  1.955424  \n",
       "\n",
       "[5 rows x 21 columns]"
      ]
     },
     "execution_count": 6,
     "metadata": {},
     "output_type": "execute_result"
    }
   ],
   "source": [
    "df.tail()"
   ]
  },
  {
   "cell_type": "code",
   "execution_count": 7,
   "id": "1ea34478",
   "metadata": {},
   "outputs": [],
   "source": [
    "from sklearn.preprocessing import MinMaxScaler\n",
    "Xscaler =MinMaxScaler()\n",
    "df.iloc[:,0:-1]=Xscaler.fit_transform(df.values[:,0:-1])"
   ]
  },
  {
   "cell_type": "code",
   "execution_count": 8,
   "id": "a2192286",
   "metadata": {},
   "outputs": [],
   "source": [
    "df_train = df['1980':'2009']\n",
    "df_test = df['2010':'2019']"
   ]
  },
  {
   "cell_type": "code",
   "execution_count": 9,
   "id": "5620db4d",
   "metadata": {},
   "outputs": [
    {
     "name": "stdout",
     "output_type": "stream",
     "text": [
      "0\n",
      "GDP\n",
      "UNstable\n",
      "1\n",
      "net population growth\n",
      "stable\n",
      "2\n",
      "CPI\n",
      "UNstable\n",
      "3\n",
      "employment rate\n",
      "stable\n",
      "4\n",
      "labsh\n",
      "stable\n",
      "5\n",
      "xr\n",
      "stable\n",
      "6\n",
      "pl_gdpo\n",
      "stable\n",
      "7\n",
      "csh_c\n",
      "stable\n",
      "8\n",
      "csh_i\n",
      "stable\n",
      "9\n",
      "csh_g\n",
      "stable\n",
      "10\n",
      "csh_x\n",
      "UNstable\n",
      "11\n",
      "csh_m\n",
      "stable\n",
      "12\n",
      "csh_r\n",
      "stable\n",
      "13\n",
      "pl_c\n",
      "stable\n",
      "14\n",
      "pl_i\n",
      "stable\n",
      "15\n",
      "pl_g\n",
      "stable\n",
      "16\n",
      "pl_x\n",
      "stable\n",
      "17\n",
      "pl_m\n",
      "stable\n",
      "18\n",
      "pl_n\n",
      "stable\n",
      "19\n",
      "pl_k\n",
      "stable\n"
     ]
    }
   ],
   "source": [
    "for i in range(0,20):\n",
    "    adfResult = sm.tsa.stattools.adfuller(df_train.iloc[:,i])\n",
    "    if adfResult[1]<0.05:\n",
    "        print(i)\n",
    "        print(df.columns[i])\n",
    "        print(\"stable\")\n",
    "    else:\n",
    "        print(i)\n",
    "        print(df.columns[i])\n",
    "        print(\"UNstable\")"
   ]
  },
  {
   "cell_type": "code",
   "execution_count": 10,
   "id": "134fdfe9",
   "metadata": {},
   "outputs": [
    {
     "name": "stderr",
     "output_type": "stream",
     "text": [
      "/var/folders/p7/7s325dfn3n380nkwd9xskh7r0000gn/T/ipykernel_44175/410532333.py:1: SettingWithCopyWarning: \n",
      "A value is trying to be set on a copy of a slice from a DataFrame.\n",
      "Try using .loc[row_indexer,col_indexer] = value instead\n",
      "\n",
      "See the caveats in the documentation: https://pandas.pydata.org/pandas-docs/stable/user_guide/indexing.html#returning-a-view-versus-a-copy\n",
      "  df_train.iloc[:,0] = df_train.iloc[:,0].diff(1)\n",
      "/var/folders/p7/7s325dfn3n380nkwd9xskh7r0000gn/T/ipykernel_44175/410532333.py:2: SettingWithCopyWarning: \n",
      "A value is trying to be set on a copy of a slice from a DataFrame.\n",
      "Try using .loc[row_indexer,col_indexer] = value instead\n",
      "\n",
      "See the caveats in the documentation: https://pandas.pydata.org/pandas-docs/stable/user_guide/indexing.html#returning-a-view-versus-a-copy\n",
      "  df_train.iloc[:,2] = df_train.iloc[:,2].diff(1)\n",
      "/var/folders/p7/7s325dfn3n380nkwd9xskh7r0000gn/T/ipykernel_44175/410532333.py:3: SettingWithCopyWarning: \n",
      "A value is trying to be set on a copy of a slice from a DataFrame.\n",
      "Try using .loc[row_indexer,col_indexer] = value instead\n",
      "\n",
      "See the caveats in the documentation: https://pandas.pydata.org/pandas-docs/stable/user_guide/indexing.html#returning-a-view-versus-a-copy\n",
      "  df_train.iloc[:,10] = df_train.iloc[:,10].diff(1)\n",
      "/var/folders/p7/7s325dfn3n380nkwd9xskh7r0000gn/T/ipykernel_44175/410532333.py:6: SettingWithCopyWarning: \n",
      "A value is trying to be set on a copy of a slice from a DataFrame.\n",
      "Try using .loc[row_indexer,col_indexer] = value instead\n",
      "\n",
      "See the caveats in the documentation: https://pandas.pydata.org/pandas-docs/stable/user_guide/indexing.html#returning-a-view-versus-a-copy\n",
      "  df_test.iloc[:,0] = df_test.iloc[:,0].diff(1)\n",
      "/var/folders/p7/7s325dfn3n380nkwd9xskh7r0000gn/T/ipykernel_44175/410532333.py:7: SettingWithCopyWarning: \n",
      "A value is trying to be set on a copy of a slice from a DataFrame.\n",
      "Try using .loc[row_indexer,col_indexer] = value instead\n",
      "\n",
      "See the caveats in the documentation: https://pandas.pydata.org/pandas-docs/stable/user_guide/indexing.html#returning-a-view-versus-a-copy\n",
      "  df_test.iloc[:,2] = df_test.iloc[:,2].diff(1)\n",
      "/var/folders/p7/7s325dfn3n380nkwd9xskh7r0000gn/T/ipykernel_44175/410532333.py:8: SettingWithCopyWarning: \n",
      "A value is trying to be set on a copy of a slice from a DataFrame.\n",
      "Try using .loc[row_indexer,col_indexer] = value instead\n",
      "\n",
      "See the caveats in the documentation: https://pandas.pydata.org/pandas-docs/stable/user_guide/indexing.html#returning-a-view-versus-a-copy\n",
      "  df_test.iloc[:,10] = df_test.iloc[:,10].diff(1)\n"
     ]
    }
   ],
   "source": [
    "df_train.iloc[:,0] = df_train.iloc[:,0].diff(1)\n",
    "df_train.iloc[:,2] = df_train.iloc[:,2].diff(1)\n",
    "df_train.iloc[:,10] = df_train.iloc[:,10].diff(1)\n",
    "\n",
    "\n",
    "df_test.iloc[:,0] = df_test.iloc[:,0].diff(1)\n",
    "df_test.iloc[:,2] = df_test.iloc[:,2].diff(1)\n",
    "df_test.iloc[:,10] = df_test.iloc[:,10].diff(1)"
   ]
  },
  {
   "cell_type": "code",
   "execution_count": 11,
   "id": "a01cd692",
   "metadata": {},
   "outputs": [
    {
     "name": "stdout",
     "output_type": "stream",
     "text": [
      "0\n",
      "GDP\n",
      "stable\n",
      "1\n",
      "net population growth\n",
      "stable\n",
      "2\n",
      "CPI\n",
      "stable\n",
      "3\n",
      "employment rate\n",
      "UNstable\n",
      "4\n",
      "labsh\n",
      "stable\n",
      "5\n",
      "xr\n",
      "UNstable\n",
      "6\n",
      "pl_gdpo\n",
      "stable\n",
      "7\n",
      "csh_c\n",
      "stable\n",
      "8\n",
      "csh_i\n",
      "UNstable\n",
      "9\n",
      "csh_g\n",
      "stable\n",
      "10\n",
      "csh_x\n",
      "UNstable\n",
      "11\n",
      "csh_m\n",
      "UNstable\n",
      "12\n",
      "csh_r\n",
      "stable\n",
      "13\n",
      "pl_c\n",
      "stable\n",
      "14\n",
      "pl_i\n",
      "stable\n",
      "15\n",
      "pl_g\n",
      "stable\n",
      "16\n",
      "pl_x\n",
      "stable\n",
      "17\n",
      "pl_m\n",
      "stable\n",
      "18\n",
      "pl_n\n",
      "stable\n",
      "19\n",
      "pl_k\n",
      "stable\n"
     ]
    }
   ],
   "source": [
    "for i in range(0,20):\n",
    "    adfResult = sm.tsa.stattools.adfuller(df_train.iloc[1:,i])\n",
    "    if adfResult[1]<0.05:\n",
    "        print(i)\n",
    "        print(df.columns[i])\n",
    "        print(\"stable\")\n",
    "    else:\n",
    "        print(i)\n",
    "        print(df.columns[i])\n",
    "        print(\"UNstable\")\n",
    "    "
   ]
  },
  {
   "cell_type": "code",
   "execution_count": 12,
   "id": "9fd39cc7",
   "metadata": {},
   "outputs": [
    {
     "name": "stdout",
     "output_type": "stream",
     "text": [
      "0\n",
      "GDP\n",
      "not coint\n",
      "1\n",
      "net population growth\n",
      "not coint\n",
      "2\n",
      "CPI\n",
      "not coint\n",
      "3\n",
      "employment rate\n",
      "not coint\n",
      "4\n",
      "labsh\n",
      "coint\n",
      "5\n",
      "xr\n",
      "coint\n",
      "6\n",
      "pl_gdpo\n",
      "not coint\n",
      "7\n",
      "csh_c\n",
      "not coint\n",
      "8\n",
      "csh_i\n",
      "coint\n",
      "9\n",
      "csh_g\n",
      "coint\n",
      "10\n",
      "csh_x\n",
      "not coint\n",
      "11\n",
      "csh_m\n",
      "not coint\n",
      "12\n",
      "csh_r\n",
      "not coint\n",
      "13\n",
      "pl_c\n",
      "not coint\n",
      "14\n",
      "pl_i\n",
      "not coint\n",
      "15\n",
      "pl_g\n",
      "not coint\n",
      "16\n",
      "pl_x\n",
      "not coint\n",
      "17\n",
      "pl_m\n",
      "not coint\n",
      "18\n",
      "pl_n\n",
      "not coint\n",
      "19\n",
      "pl_k\n",
      "not coint\n"
     ]
    }
   ],
   "source": [
    "for i in range(0,20):\n",
    "    result = sm.tsa.stattools.coint(df_train.iloc[1:,-1],df_train.iloc[1:,i])\n",
    "    if result[1]<0.05:\n",
    "        print(i)\n",
    "        print(df.columns[i])\n",
    "        print(\"coint\")\n",
    "    else:\n",
    "        print(i)\n",
    "        print(df.columns[i])\n",
    "        print(\"not coint\")"
   ]
  },
  {
   "cell_type": "code",
   "execution_count": 13,
   "id": "01408e7d",
   "metadata": {},
   "outputs": [],
   "source": [
    "df_train = df_train.iloc[1:,[0,4,8,9]]['1981':'2009']\n",
    "df_test = df_test.iloc[1:,[0,4,8,9]]['2010':'2019']\n",
    "\n",
    "#df_train = df.iloc[1:,[0,3,4,5,6,7,8,9,13,14,15,16,17,18,19]]['1981':'2009']\n",
    "#df_test = df.iloc[1:,[0,3,4,5,6,7,8,9,13,14,15,16,17,18,19]]['2010':'2019']"
   ]
  },
  {
   "cell_type": "code",
   "execution_count": 14,
   "id": "be35be23",
   "metadata": {},
   "outputs": [
    {
     "name": "stdout",
     "output_type": "stream",
     "text": [
      "BEST ORDER: 4 BEST AIC: -13.40654509197488\n"
     ]
    }
   ],
   "source": [
    "### FIND BEST VAR ORDER with AIC ###\n",
    "AIC = {}\n",
    "best_aic, best_order = np.inf, 0\n",
    "lagsToTest = 5\n",
    "for i in range(1, lagsToTest):\n",
    "    model = VAR(df_train.values)\n",
    "    model_result = model.fit(i)\n",
    "    AIC[i] = model_result.aic\n",
    "\n",
    "    if AIC[i] < best_aic:\n",
    "        best_aic = AIC[i]\n",
    "        best_order = i\n",
    "\n",
    "print('BEST ORDER:', best_order, 'BEST AIC:', best_aic)"
   ]
  },
  {
   "cell_type": "code",
   "execution_count": 15,
   "id": "cf9156fd",
   "metadata": {},
   "outputs": [
    {
     "name": "stdout",
     "output_type": "stream",
     "text": [
      "var_result.aic:  -13.40654509197488\n"
     ]
    }
   ],
   "source": [
    "### FIT FINAL VAR WITH LAG CORRESPONTING TO THE BEST AIC ###\n",
    "var = VAR(df_train)\n",
    "var_result = var.fit(maxlags=best_order)\n",
    "print(\"var_result.aic: \", var_result.aic)"
   ]
  },
  {
   "cell_type": "code",
   "execution_count": 16,
   "id": "a1942c67",
   "metadata": {},
   "outputs": [
    {
     "name": "stdout",
     "output_type": "stream",
     "text": [
      "4\n"
     ]
    }
   ],
   "source": [
    "print(len(df.iloc[1:,[0,4,8,9]].values[-best_order:]))\n",
    "\n",
    "forecast_input = df.iloc[1:,[0,4,8,9]].values[-best_order:]\n",
    "\n",
    "# Forecast\n",
    "fc = var_result.forecast(y = forecast_input, steps=5)\n",
    "df_forecast = pd.DataFrame(fc, index=pd.period_range(start = '2019',end = '2023',freq = 'Y'), columns=df_train.columns)\n",
    "#print(df_forecast)"
   ]
  },
  {
   "cell_type": "code",
   "execution_count": 17,
   "id": "88f0267b",
   "metadata": {},
   "outputs": [
    {
     "data": {
      "text/plain": [
       "(29, 4)"
      ]
     },
     "execution_count": 17,
     "metadata": {},
     "output_type": "execute_result"
    }
   ],
   "source": [
    "df_train.shape"
   ]
  },
  {
   "cell_type": "code",
   "execution_count": 18,
   "id": "30714b7c",
   "metadata": {},
   "outputs": [
    {
     "name": "stdout",
     "output_type": "stream",
     "text": [
      "0.09337779319688555\n"
     ]
    },
    {
     "data": {
      "text/plain": [
       "<AxesSubplot:>"
      ]
     },
     "execution_count": 18,
     "metadata": {},
     "output_type": "execute_result"
    },
    {
     "data": {
      "image/png": "[encoded data removed]",
      "text/plain": [
       "<Figure size 432x288 with 1 Axes>"
      ]
     },
     "metadata": {
      "needs_background": "light"
     },
     "output_type": "display_data"
    }
   ],
   "source": [
    "fitted_value = np.zeros((28,4))\n",
    "for i in range(0,28,4):\n",
    "    a = var_result.forecast(y = df_train.iloc[i:i+4,:].values, steps=4)\n",
    "    fitted_value[i:i+4,:] = a\n",
    "\n",
    "fitted_value = pd.DataFrame(fitted_value, index=pd.period_range(start = '1985',end = '2012',freq = 'Y'), columns=df_train.columns)\n",
    "#print(df_forecast)\n",
    "\n",
    "print(rmse(fitted_value.iloc[:-3,0],df_train.iloc[4:,0].values))\n",
    "plt.figure()\n",
    "df_train.iloc[:,0].plot()\n",
    "fitted_value.iloc[:,0].plot()"
   ]
  },
  {
   "cell_type": "code",
   "execution_count": 19,
   "id": "4f063947",
   "metadata": {},
   "outputs": [
    {
     "data": {
      "text/plain": [
       "<AxesSubplot:>"
      ]
     },
     "execution_count": 19,
     "metadata": {},
     "output_type": "execute_result"
    },
    {
     "data": {
      "image/png": "[encoded data removed]",
      "text/plain": [
       "<Figure size 432x288 with 1 Axes>"
      ]
     },
     "metadata": {
      "needs_background": "light"
     },
     "output_type": "display_data"
    }
   ],
   "source": [
    "plt.figure()\n",
    "df.iloc[1:,0].plot()\n",
    "df_forecast.iloc[:,0].plot()"
   ]
  },
  {
   "cell_type": "code",
   "execution_count": 20,
   "id": "7ee12ce5",
   "metadata": {
    "scrolled": true
   },
   "outputs": [
    {
     "data": {
      "text/plain": [
       "0.3032595702368126"
      ]
     },
     "execution_count": 20,
     "metadata": {},
     "output_type": "execute_result"
    }
   ],
   "source": [
    "predict_Test = var_result.forecast(y = df_train.values[-4:], steps=9)\n",
    "rmse(predict_Test[:,0],df_test.iloc[:,0].values)"
   ]
  },
  {
   "cell_type": "code",
   "execution_count": 21,
   "id": "bb44aa0b",
   "metadata": {},
   "outputs": [
    {
     "data": {
      "text/plain": [
       "0.3088345987588041"
      ]
     },
     "execution_count": 21,
     "metadata": {},
     "output_type": "execute_result"
    }
   ],
   "source": [
    "predict_Train = var_result.forecast(y = df_train.values[:], steps=26)\n",
    "rmse(predict_Train[:,0],df_train.iloc[3:,0].values)"
   ]
  },
  {
   "cell_type": "code",
   "execution_count": null,
   "id": "c0d82e2e",
   "metadata": {},
   "outputs": [],
   "source": []
  },
  {
   "cell_type": "code",
   "execution_count": null,
   "id": "fb975da5",
   "metadata": {},
   "outputs": [],
   "source": []
  }
 ],
 "metadata": {
  "kernelspec": {
   "display_name": "Python 3 (ipykernel)",
   "language": "python",
   "name": "python3"
  },
  "language_info": {
   "codemirror_mode": {
    "name": "ipython",
    "version": 3
   },
   "file_extension": ".py",
   "mimetype": "text/x-python",
   "name": "python",
   "nbconvert_exporter": "python",
   "pygments_lexer": "ipython3",
   "version": "3.9.12"
  }
 },
 "nbformat": 4,
 "nbformat_minor": 5
}
